{
 "cells": [
  {
   "cell_type": "code",
   "execution_count": 2,
   "metadata": {},
   "outputs": [],
   "source": [
    "import pandas as pd\n",
    "import numpy as np\n",
    "import matplotlib.pyplot as plt"
   ]
  },
  {
   "cell_type": "code",
   "execution_count": 3,
   "metadata": {},
   "outputs": [
    {
     "name": "stderr",
     "output_type": "stream",
     "text": [
      "c:\\Users\\Rafael Ortega\\AppData\\Local\\Programs\\Python\\Python37\\lib\\site-packages\\openpyxl\\styles\\stylesheet.py:226: UserWarning: Workbook contains no default style, apply openpyxl's default\n",
      "  warn(\"Workbook contains no default style, apply openpyxl's default\")\n"
     ]
    }
   ],
   "source": [
    "pacientes_raw = pd.read_excel('C:/Users/Rafael Ortega/Proyectos/Data_Analyst/EDA/EDA - Rafael Ortega/src/data/raw/Datos de pacientes.xlsx')\n"
   ]
  },
  {
   "cell_type": "code",
   "execution_count": 4,
   "metadata": {},
   "outputs": [
    {
     "data": {
      "text/html": [
       "<div>\n",
       "<style scoped>\n",
       "    .dataframe tbody tr th:only-of-type {\n",
       "        vertical-align: middle;\n",
       "    }\n",
       "\n",
       "    .dataframe tbody tr th {\n",
       "        vertical-align: top;\n",
       "    }\n",
       "\n",
       "    .dataframe thead th {\n",
       "        text-align: right;\n",
       "    }\n",
       "</style>\n",
       "<table border=\"1\" class=\"dataframe\">\n",
       "  <thead>\n",
       "    <tr style=\"text-align: right;\">\n",
       "      <th></th>\n",
       "      <th>Apellido</th>\n",
       "      <th>Comentarios</th>\n",
       "      <th>Correo electronico</th>\n",
       "      <th>Direccion</th>\n",
       "      <th>DNI</th>\n",
       "      <th>Edad</th>\n",
       "      <th>Fecha de creacion del registro</th>\n",
       "      <th>Fecha Nacimiento</th>\n",
       "      <th>ID Paciente</th>\n",
       "      <th>Localidad</th>\n",
       "      <th>Nº de Afiliado</th>\n",
       "      <th>Nombres</th>\n",
       "      <th>Obra Social</th>\n",
       "      <th>Plan Obra Social</th>\n",
       "      <th>Telefono Fijo</th>\n",
       "      <th>Telefono Móvil</th>\n",
       "    </tr>\n",
       "  </thead>\n",
       "  <tbody>\n",
       "    <tr>\n",
       "      <th>0</th>\n",
       "      <td>DePrueba</td>\n",
       "      <td>esposa del dr.</td>\n",
       "      <td>ivanags@hotmail.com</td>\n",
       "      <td>9 de Julio 170 - Planta Alta</td>\n",
       "      <td>27480893.0</td>\n",
       "      <td>43 años</td>\n",
       "      <td>NaT</td>\n",
       "      <td>1979-10-22 00:00:00</td>\n",
       "      <td>1</td>\n",
       "      <td>Rafaela</td>\n",
       "      <td>2.748089e+07</td>\n",
       "      <td>Ivana</td>\n",
       "      <td>IAPOS</td>\n",
       "      <td>NaN</td>\n",
       "      <td>435015</td>\n",
       "      <td>342154073978</td>\n",
       "    </tr>\n",
       "    <tr>\n",
       "      <th>1</th>\n",
       "      <td>Zurbriggen</td>\n",
       "      <td>NaN</td>\n",
       "      <td>NaN</td>\n",
       "      <td>Chiaraviglio 198</td>\n",
       "      <td>14338475.0</td>\n",
       "      <td>61 años</td>\n",
       "      <td>NaT</td>\n",
       "      <td>1961-06-16 00:00:00</td>\n",
       "      <td>2</td>\n",
       "      <td>Rafaela</td>\n",
       "      <td>1.433848e+07</td>\n",
       "      <td>María Cristina</td>\n",
       "      <td>OSECAC</td>\n",
       "      <td>NaN</td>\n",
       "      <td>437113</td>\n",
       "      <td>NaN</td>\n",
       "    </tr>\n",
       "    <tr>\n",
       "      <th>2</th>\n",
       "      <td>Zoratti</td>\n",
       "      <td>NaN</td>\n",
       "      <td>graciela_ferreteria@hotmail.com</td>\n",
       "      <td>Alvear 946</td>\n",
       "      <td>17008004.0</td>\n",
       "      <td>58 años</td>\n",
       "      <td>NaT</td>\n",
       "      <td>1964-07-24 00:00:00</td>\n",
       "      <td>3</td>\n",
       "      <td>Rafaela</td>\n",
       "      <td>1.700800e+07</td>\n",
       "      <td>Graciela</td>\n",
       "      <td>CENTRO ASISTENCIAL</td>\n",
       "      <td>NaN</td>\n",
       "      <td>NaN</td>\n",
       "      <td>15683213</td>\n",
       "    </tr>\n",
       "    <tr>\n",
       "      <th>3</th>\n",
       "      <td>Trossero</td>\n",
       "      <td>NaN</td>\n",
       "      <td>dtrossero@hotmail.com</td>\n",
       "      <td>NaN</td>\n",
       "      <td>29215013.0</td>\n",
       "      <td>NaN</td>\n",
       "      <td>NaT</td>\n",
       "      <td>NaN</td>\n",
       "      <td>4</td>\n",
       "      <td>Ataliva</td>\n",
       "      <td>2.921501e+07</td>\n",
       "      <td>Daniela Laura</td>\n",
       "      <td>CENTRO ASISTENCIAL</td>\n",
       "      <td>NaN</td>\n",
       "      <td>NaN</td>\n",
       "      <td>03493 15405038</td>\n",
       "    </tr>\n",
       "    <tr>\n",
       "      <th>4</th>\n",
       "      <td>Ingaramo</td>\n",
       "      <td>NaN</td>\n",
       "      <td>flia.vinderola@hotmail.com</td>\n",
       "      <td>Chacabuco 347</td>\n",
       "      <td>6480084.0</td>\n",
       "      <td>81 años</td>\n",
       "      <td>NaT</td>\n",
       "      <td>1941-06-13 00:00:00</td>\n",
       "      <td>5</td>\n",
       "      <td>Rafaela</td>\n",
       "      <td>6.049401e+17</td>\n",
       "      <td>Alcira</td>\n",
       "      <td>SANCOR</td>\n",
       "      <td>NaN</td>\n",
       "      <td>504349</td>\n",
       "      <td>15612356</td>\n",
       "    </tr>\n",
       "  </tbody>\n",
       "</table>\n",
       "</div>"
      ],
      "text/plain": [
       "     Apellido     Comentarios               Correo electronico  \\\n",
       "0    DePrueba  esposa del dr.              ivanags@hotmail.com   \n",
       "1  Zurbriggen             NaN                              NaN   \n",
       "2     Zoratti             NaN  graciela_ferreteria@hotmail.com   \n",
       "3    Trossero             NaN            dtrossero@hotmail.com   \n",
       "4    Ingaramo             NaN       flia.vinderola@hotmail.com   \n",
       "\n",
       "                      Direccion         DNI     Edad  \\\n",
       "0  9 de Julio 170 - Planta Alta  27480893.0  43 años   \n",
       "1              Chiaraviglio 198  14338475.0  61 años   \n",
       "2                    Alvear 946  17008004.0  58 años   \n",
       "3                           NaN  29215013.0      NaN   \n",
       "4                 Chacabuco 347   6480084.0  81 años   \n",
       "\n",
       "  Fecha de creacion del registro     Fecha Nacimiento  ID Paciente Localidad  \\\n",
       "0                            NaT  1979-10-22 00:00:00            1   Rafaela   \n",
       "1                            NaT  1961-06-16 00:00:00            2   Rafaela   \n",
       "2                            NaT  1964-07-24 00:00:00            3   Rafaela   \n",
       "3                            NaT                  NaN            4   Ataliva   \n",
       "4                            NaT  1941-06-13 00:00:00            5   Rafaela   \n",
       "\n",
       "   Nº de Afiliado         Nombres         Obra Social Plan Obra Social  \\\n",
       "0    2.748089e+07           Ivana               IAPOS              NaN   \n",
       "1    1.433848e+07  María Cristina              OSECAC              NaN   \n",
       "2    1.700800e+07        Graciela  CENTRO ASISTENCIAL              NaN   \n",
       "3    2.921501e+07   Daniela Laura  CENTRO ASISTENCIAL              NaN   \n",
       "4    6.049401e+17          Alcira              SANCOR              NaN   \n",
       "\n",
       "  Telefono Fijo  Telefono Móvil  \n",
       "0        435015    342154073978  \n",
       "1        437113             NaN  \n",
       "2           NaN        15683213  \n",
       "3           NaN  03493 15405038  \n",
       "4        504349        15612356  "
      ]
     },
     "execution_count": 4,
     "metadata": {},
     "output_type": "execute_result"
    }
   ],
   "source": [
    "pacientes_raw.head()"
   ]
  },
  {
   "cell_type": "code",
   "execution_count": 5,
   "metadata": {},
   "outputs": [
    {
     "name": "stdout",
     "output_type": "stream",
     "text": [
      "<class 'pandas.core.frame.DataFrame'>\n",
      "RangeIndex: 910 entries, 0 to 909\n",
      "Data columns (total 16 columns):\n",
      " #   Column                          Non-Null Count  Dtype         \n",
      "---  ------                          --------------  -----         \n",
      " 0   Apellido                        875 non-null    object        \n",
      " 1   Comentarios                     33 non-null     object        \n",
      " 2   Correo electronico              444 non-null    object        \n",
      " 3   Direccion                       492 non-null    object        \n",
      " 4   DNI                             764 non-null    float64       \n",
      " 5   Edad                            695 non-null    object        \n",
      " 6   Fecha de creacion del registro  725 non-null    datetime64[ns]\n",
      " 7   Fecha Nacimiento                695 non-null    object        \n",
      " 8   ID Paciente                     910 non-null    int64         \n",
      " 9   Localidad                       724 non-null    object        \n",
      " 10  Nº de Afiliado                  669 non-null    float64       \n",
      " 11  Nombres                         878 non-null    object        \n",
      " 12  Obra Social                     851 non-null    object        \n",
      " 13  Plan Obra Social                250 non-null    object        \n",
      " 14  Telefono Fijo                   45 non-null     object        \n",
      " 15  Telefono Móvil                  647 non-null    object        \n",
      "dtypes: datetime64[ns](1), float64(2), int64(1), object(12)\n",
      "memory usage: 113.9+ KB\n"
     ]
    }
   ],
   "source": [
    "pacientes_raw.info()"
   ]
  },
  {
   "cell_type": "code",
   "execution_count": 6,
   "metadata": {},
   "outputs": [
    {
     "data": {
      "text/plain": [
       "(910, 16)"
      ]
     },
     "execution_count": 6,
     "metadata": {},
     "output_type": "execute_result"
    }
   ],
   "source": [
    "pacientes_raw.shape"
   ]
  },
  {
   "cell_type": "code",
   "execution_count": 7,
   "metadata": {},
   "outputs": [
    {
     "data": {
      "text/html": [
       "<div>\n",
       "<style scoped>\n",
       "    .dataframe tbody tr th:only-of-type {\n",
       "        vertical-align: middle;\n",
       "    }\n",
       "\n",
       "    .dataframe tbody tr th {\n",
       "        vertical-align: top;\n",
       "    }\n",
       "\n",
       "    .dataframe thead th {\n",
       "        text-align: right;\n",
       "    }\n",
       "</style>\n",
       "<table border=\"1\" class=\"dataframe\">\n",
       "  <thead>\n",
       "    <tr style=\"text-align: right;\">\n",
       "      <th></th>\n",
       "      <th>DNI</th>\n",
       "      <th>ID Paciente</th>\n",
       "      <th>Nº de Afiliado</th>\n",
       "    </tr>\n",
       "  </thead>\n",
       "  <tbody>\n",
       "    <tr>\n",
       "      <th>count</th>\n",
       "      <td>7.640000e+02</td>\n",
       "      <td>9.100000e+02</td>\n",
       "      <td>6.690000e+02</td>\n",
       "    </tr>\n",
       "    <tr>\n",
       "      <th>mean</th>\n",
       "      <td>3.070117e+07</td>\n",
       "      <td>1.268087e+04</td>\n",
       "      <td>4.866834e+17</td>\n",
       "    </tr>\n",
       "    <tr>\n",
       "      <th>std</th>\n",
       "      <td>8.614453e+06</td>\n",
       "      <td>3.675935e+05</td>\n",
       "      <td>3.487996e+18</td>\n",
       "    </tr>\n",
       "    <tr>\n",
       "      <th>min</th>\n",
       "      <td>3.350320e+05</td>\n",
       "      <td>1.000000e+00</td>\n",
       "      <td>2.221000e+03</td>\n",
       "    </tr>\n",
       "    <tr>\n",
       "      <th>25%</th>\n",
       "      <td>2.747757e+07</td>\n",
       "      <td>2.432500e+02</td>\n",
       "      <td>2.660984e+07</td>\n",
       "    </tr>\n",
       "    <tr>\n",
       "      <th>50%</th>\n",
       "      <td>3.118968e+07</td>\n",
       "      <td>5.065000e+02</td>\n",
       "      <td>5.337370e+07</td>\n",
       "    </tr>\n",
       "    <tr>\n",
       "      <th>75%</th>\n",
       "      <td>3.472028e+07</td>\n",
       "      <td>7.447500e+02</td>\n",
       "      <td>1.369480e+10</td>\n",
       "    </tr>\n",
       "    <tr>\n",
       "      <th>max</th>\n",
       "      <td>9.559020e+07</td>\n",
       "      <td>1.108939e+07</td>\n",
       "      <td>8.000006e+19</td>\n",
       "    </tr>\n",
       "  </tbody>\n",
       "</table>\n",
       "</div>"
      ],
      "text/plain": [
       "                DNI   ID Paciente  Nº de Afiliado\n",
       "count  7.640000e+02  9.100000e+02    6.690000e+02\n",
       "mean   3.070117e+07  1.268087e+04    4.866834e+17\n",
       "std    8.614453e+06  3.675935e+05    3.487996e+18\n",
       "min    3.350320e+05  1.000000e+00    2.221000e+03\n",
       "25%    2.747757e+07  2.432500e+02    2.660984e+07\n",
       "50%    3.118968e+07  5.065000e+02    5.337370e+07\n",
       "75%    3.472028e+07  7.447500e+02    1.369480e+10\n",
       "max    9.559020e+07  1.108939e+07    8.000006e+19"
      ]
     },
     "execution_count": 7,
     "metadata": {},
     "output_type": "execute_result"
    }
   ],
   "source": [
    "pacientes_raw.describe()"
   ]
  },
  {
   "cell_type": "code",
   "execution_count": 8,
   "metadata": {},
   "outputs": [
    {
     "data": {
      "text/plain": [
       "Index(['Apellido', 'Comentarios', 'Correo electronico', 'Direccion', 'DNI',\n",
       "       'Edad', 'Fecha de creacion del registro', 'Fecha Nacimiento',\n",
       "       'ID Paciente', 'Localidad', 'Nº de Afiliado', 'Nombres', 'Obra Social',\n",
       "       'Plan Obra Social', 'Telefono Fijo', 'Telefono Móvil'],\n",
       "      dtype='object')"
      ]
     },
     "execution_count": 8,
     "metadata": {},
     "output_type": "execute_result"
    }
   ],
   "source": [
    "pacientes_raw.columns"
   ]
  },
  {
   "cell_type": "code",
   "execution_count": 9,
   "metadata": {},
   "outputs": [],
   "source": [
    "# Se eliminan las columnas que no son necesarias para el análisis\n",
    "# STEP 1\n",
    "step1 = pacientes_raw.drop(['Comentarios', 'Correo electronico','Direccion', 'Nº de Afiliado','Plan Obra Social', 'Telefono Fijo', 'Telefono Móvil'], axis = 1)"
   ]
  },
  {
   "cell_type": "code",
   "execution_count": 10,
   "metadata": {},
   "outputs": [
    {
     "data": {
      "text/plain": [
       "Index(['Apellido', 'DNI', 'Edad', 'Fecha de creacion del registro',\n",
       "       'Fecha Nacimiento', 'ID Paciente', 'Localidad', 'Nombres',\n",
       "       'Obra Social'],\n",
       "      dtype='object')"
      ]
     },
     "execution_count": 10,
     "metadata": {},
     "output_type": "execute_result"
    }
   ],
   "source": [
    "step1.columns"
   ]
  },
  {
   "cell_type": "code",
   "execution_count": 11,
   "metadata": {},
   "outputs": [
    {
     "data": {
      "text/html": [
       "<div>\n",
       "<style scoped>\n",
       "    .dataframe tbody tr th:only-of-type {\n",
       "        vertical-align: middle;\n",
       "    }\n",
       "\n",
       "    .dataframe tbody tr th {\n",
       "        vertical-align: top;\n",
       "    }\n",
       "\n",
       "    .dataframe thead th {\n",
       "        text-align: right;\n",
       "    }\n",
       "</style>\n",
       "<table border=\"1\" class=\"dataframe\">\n",
       "  <thead>\n",
       "    <tr style=\"text-align: right;\">\n",
       "      <th></th>\n",
       "      <th>Apellido</th>\n",
       "      <th>DNI</th>\n",
       "      <th>Edad</th>\n",
       "      <th>Fecha de creacion del registro</th>\n",
       "      <th>Fecha Nacimiento</th>\n",
       "      <th>ID Paciente</th>\n",
       "      <th>Localidad</th>\n",
       "      <th>Nombres</th>\n",
       "      <th>Obra Social</th>\n",
       "    </tr>\n",
       "  </thead>\n",
       "  <tbody>\n",
       "    <tr>\n",
       "      <th>0</th>\n",
       "      <td>DePrueba</td>\n",
       "      <td>27480893.0</td>\n",
       "      <td>43 años</td>\n",
       "      <td>NaT</td>\n",
       "      <td>1979-10-22 00:00:00</td>\n",
       "      <td>1</td>\n",
       "      <td>Rafaela</td>\n",
       "      <td>Ivana</td>\n",
       "      <td>IAPOS</td>\n",
       "    </tr>\n",
       "    <tr>\n",
       "      <th>1</th>\n",
       "      <td>Zurbriggen</td>\n",
       "      <td>14338475.0</td>\n",
       "      <td>61 años</td>\n",
       "      <td>NaT</td>\n",
       "      <td>1961-06-16 00:00:00</td>\n",
       "      <td>2</td>\n",
       "      <td>Rafaela</td>\n",
       "      <td>María Cristina</td>\n",
       "      <td>OSECAC</td>\n",
       "    </tr>\n",
       "    <tr>\n",
       "      <th>2</th>\n",
       "      <td>Zoratti</td>\n",
       "      <td>17008004.0</td>\n",
       "      <td>58 años</td>\n",
       "      <td>NaT</td>\n",
       "      <td>1964-07-24 00:00:00</td>\n",
       "      <td>3</td>\n",
       "      <td>Rafaela</td>\n",
       "      <td>Graciela</td>\n",
       "      <td>CENTRO ASISTENCIAL</td>\n",
       "    </tr>\n",
       "    <tr>\n",
       "      <th>3</th>\n",
       "      <td>Trossero</td>\n",
       "      <td>29215013.0</td>\n",
       "      <td>NaN</td>\n",
       "      <td>NaT</td>\n",
       "      <td>NaN</td>\n",
       "      <td>4</td>\n",
       "      <td>Ataliva</td>\n",
       "      <td>Daniela Laura</td>\n",
       "      <td>CENTRO ASISTENCIAL</td>\n",
       "    </tr>\n",
       "    <tr>\n",
       "      <th>4</th>\n",
       "      <td>Ingaramo</td>\n",
       "      <td>6480084.0</td>\n",
       "      <td>81 años</td>\n",
       "      <td>NaT</td>\n",
       "      <td>1941-06-13 00:00:00</td>\n",
       "      <td>5</td>\n",
       "      <td>Rafaela</td>\n",
       "      <td>Alcira</td>\n",
       "      <td>SANCOR</td>\n",
       "    </tr>\n",
       "  </tbody>\n",
       "</table>\n",
       "</div>"
      ],
      "text/plain": [
       "     Apellido         DNI     Edad Fecha de creacion del registro  \\\n",
       "0    DePrueba  27480893.0  43 años                            NaT   \n",
       "1  Zurbriggen  14338475.0  61 años                            NaT   \n",
       "2     Zoratti  17008004.0  58 años                            NaT   \n",
       "3    Trossero  29215013.0      NaN                            NaT   \n",
       "4    Ingaramo   6480084.0  81 años                            NaT   \n",
       "\n",
       "      Fecha Nacimiento  ID Paciente Localidad         Nombres  \\\n",
       "0  1979-10-22 00:00:00            1   Rafaela           Ivana   \n",
       "1  1961-06-16 00:00:00            2   Rafaela  María Cristina   \n",
       "2  1964-07-24 00:00:00            3   Rafaela        Graciela   \n",
       "3                  NaN            4   Ataliva   Daniela Laura   \n",
       "4  1941-06-13 00:00:00            5   Rafaela          Alcira   \n",
       "\n",
       "          Obra Social  \n",
       "0               IAPOS  \n",
       "1              OSECAC  \n",
       "2  CENTRO ASISTENCIAL  \n",
       "3  CENTRO ASISTENCIAL  \n",
       "4              SANCOR  "
      ]
     },
     "execution_count": 11,
     "metadata": {},
     "output_type": "execute_result"
    }
   ],
   "source": [
    "step1.head()"
   ]
  },
  {
   "cell_type": "code",
   "execution_count": 12,
   "metadata": {},
   "outputs": [
    {
     "data": {
      "text/plain": [
       "(910, 9)"
      ]
     },
     "execution_count": 12,
     "metadata": {},
     "output_type": "execute_result"
    }
   ],
   "source": [
    "step1.shape"
   ]
  },
  {
   "cell_type": "code",
   "execution_count": 13,
   "metadata": {},
   "outputs": [],
   "source": [
    "# Se eliminará la primera fila. \n",
    "# STEP 2\n",
    "step2 = step1.iloc[1:]"
   ]
  },
  {
   "cell_type": "code",
   "execution_count": 14,
   "metadata": {},
   "outputs": [
    {
     "data": {
      "text/html": [
       "<div>\n",
       "<style scoped>\n",
       "    .dataframe tbody tr th:only-of-type {\n",
       "        vertical-align: middle;\n",
       "    }\n",
       "\n",
       "    .dataframe tbody tr th {\n",
       "        vertical-align: top;\n",
       "    }\n",
       "\n",
       "    .dataframe thead th {\n",
       "        text-align: right;\n",
       "    }\n",
       "</style>\n",
       "<table border=\"1\" class=\"dataframe\">\n",
       "  <thead>\n",
       "    <tr style=\"text-align: right;\">\n",
       "      <th></th>\n",
       "      <th>Apellido</th>\n",
       "      <th>DNI</th>\n",
       "      <th>Edad</th>\n",
       "      <th>Fecha de creacion del registro</th>\n",
       "      <th>Fecha Nacimiento</th>\n",
       "      <th>ID Paciente</th>\n",
       "      <th>Localidad</th>\n",
       "      <th>Nombres</th>\n",
       "      <th>Obra Social</th>\n",
       "    </tr>\n",
       "  </thead>\n",
       "  <tbody>\n",
       "    <tr>\n",
       "      <th>1</th>\n",
       "      <td>Zurbriggen</td>\n",
       "      <td>14338475.0</td>\n",
       "      <td>61 años</td>\n",
       "      <td>NaT</td>\n",
       "      <td>1961-06-16 00:00:00</td>\n",
       "      <td>2</td>\n",
       "      <td>Rafaela</td>\n",
       "      <td>María Cristina</td>\n",
       "      <td>OSECAC</td>\n",
       "    </tr>\n",
       "    <tr>\n",
       "      <th>2</th>\n",
       "      <td>Zoratti</td>\n",
       "      <td>17008004.0</td>\n",
       "      <td>58 años</td>\n",
       "      <td>NaT</td>\n",
       "      <td>1964-07-24 00:00:00</td>\n",
       "      <td>3</td>\n",
       "      <td>Rafaela</td>\n",
       "      <td>Graciela</td>\n",
       "      <td>CENTRO ASISTENCIAL</td>\n",
       "    </tr>\n",
       "    <tr>\n",
       "      <th>3</th>\n",
       "      <td>Trossero</td>\n",
       "      <td>29215013.0</td>\n",
       "      <td>NaN</td>\n",
       "      <td>NaT</td>\n",
       "      <td>NaN</td>\n",
       "      <td>4</td>\n",
       "      <td>Ataliva</td>\n",
       "      <td>Daniela Laura</td>\n",
       "      <td>CENTRO ASISTENCIAL</td>\n",
       "    </tr>\n",
       "    <tr>\n",
       "      <th>4</th>\n",
       "      <td>Ingaramo</td>\n",
       "      <td>6480084.0</td>\n",
       "      <td>81 años</td>\n",
       "      <td>NaT</td>\n",
       "      <td>1941-06-13 00:00:00</td>\n",
       "      <td>5</td>\n",
       "      <td>Rafaela</td>\n",
       "      <td>Alcira</td>\n",
       "      <td>SANCOR</td>\n",
       "    </tr>\n",
       "    <tr>\n",
       "      <th>5</th>\n",
       "      <td>Condrac</td>\n",
       "      <td>29054123.0</td>\n",
       "      <td>40 años</td>\n",
       "      <td>NaT</td>\n",
       "      <td>1980-04-24 00:00:00</td>\n",
       "      <td>6</td>\n",
       "      <td>Rafaela</td>\n",
       "      <td>Keila</td>\n",
       "      <td>AMUR</td>\n",
       "    </tr>\n",
       "  </tbody>\n",
       "</table>\n",
       "</div>"
      ],
      "text/plain": [
       "     Apellido         DNI     Edad Fecha de creacion del registro  \\\n",
       "1  Zurbriggen  14338475.0  61 años                            NaT   \n",
       "2     Zoratti  17008004.0  58 años                            NaT   \n",
       "3    Trossero  29215013.0      NaN                            NaT   \n",
       "4    Ingaramo   6480084.0  81 años                            NaT   \n",
       "5     Condrac  29054123.0  40 años                            NaT   \n",
       "\n",
       "      Fecha Nacimiento  ID Paciente Localidad         Nombres  \\\n",
       "1  1961-06-16 00:00:00            2   Rafaela  María Cristina   \n",
       "2  1964-07-24 00:00:00            3   Rafaela        Graciela   \n",
       "3                  NaN            4   Ataliva   Daniela Laura   \n",
       "4  1941-06-13 00:00:00            5   Rafaela          Alcira   \n",
       "5  1980-04-24 00:00:00            6   Rafaela           Keila   \n",
       "\n",
       "          Obra Social  \n",
       "1              OSECAC  \n",
       "2  CENTRO ASISTENCIAL  \n",
       "3  CENTRO ASISTENCIAL  \n",
       "4              SANCOR  \n",
       "5                AMUR  "
      ]
     },
     "execution_count": 14,
     "metadata": {},
     "output_type": "execute_result"
    }
   ],
   "source": [
    "step2.head()"
   ]
  },
  {
   "cell_type": "code",
   "execution_count": 15,
   "metadata": {},
   "outputs": [
    {
     "data": {
      "text/plain": [
       "(909, 9)"
      ]
     },
     "execution_count": 15,
     "metadata": {},
     "output_type": "execute_result"
    }
   ],
   "source": [
    "step2.shape"
   ]
  },
  {
   "cell_type": "code",
   "execution_count": 16,
   "metadata": {},
   "outputs": [
    {
     "data": {
      "text/plain": [
       "33722760.0    2\n",
       "29729292.0    2\n",
       "27484170.0    2\n",
       "14338475.0    1\n",
       "34673695.0    1\n",
       "             ..\n",
       "32726356.0    1\n",
       "31566648.0    1\n",
       "31179204.0    1\n",
       "35101314.0    1\n",
       "47588071.0    1\n",
       "Name: DNI, Length: 760, dtype: int64"
      ]
     },
     "execution_count": 16,
     "metadata": {},
     "output_type": "execute_result"
    }
   ],
   "source": [
    "# Compruebo que los DNI no esten duplicados\n",
    "step2['DNI'].value_counts()"
   ]
  },
  {
   "cell_type": "code",
   "execution_count": 17,
   "metadata": {},
   "outputs": [
    {
     "data": {
      "text/plain": [
       "2      1\n",
       "688    1\n",
       "662    1\n",
       "663    1\n",
       "664    1\n",
       "      ..\n",
       "337    1\n",
       "338    1\n",
       "339    1\n",
       "340    1\n",
       "974    1\n",
       "Name: ID Paciente, Length: 909, dtype: int64"
      ]
     },
     "execution_count": 17,
     "metadata": {},
     "output_type": "execute_result"
    }
   ],
   "source": [
    "# Compruebo que los ID Paciente no esten duplicados\n",
    "step2['ID Paciente'].value_counts()"
   ]
  },
  {
   "cell_type": "code",
   "execution_count": 18,
   "metadata": {},
   "outputs": [
    {
     "data": {
      "text/html": [
       "<div>\n",
       "<style scoped>\n",
       "    .dataframe tbody tr th:only-of-type {\n",
       "        vertical-align: middle;\n",
       "    }\n",
       "\n",
       "    .dataframe tbody tr th {\n",
       "        vertical-align: top;\n",
       "    }\n",
       "\n",
       "    .dataframe thead th {\n",
       "        text-align: right;\n",
       "    }\n",
       "</style>\n",
       "<table border=\"1\" class=\"dataframe\">\n",
       "  <thead>\n",
       "    <tr style=\"text-align: right;\">\n",
       "      <th></th>\n",
       "      <th>Apellido</th>\n",
       "      <th>DNI</th>\n",
       "      <th>Edad</th>\n",
       "      <th>Fecha de creacion del registro</th>\n",
       "      <th>Fecha Nacimiento</th>\n",
       "      <th>ID Paciente</th>\n",
       "      <th>Localidad</th>\n",
       "      <th>Nombres</th>\n",
       "      <th>Obra Social</th>\n",
       "    </tr>\n",
       "  </thead>\n",
       "  <tbody>\n",
       "    <tr>\n",
       "      <th>92</th>\n",
       "      <td>Cipolatti</td>\n",
       "      <td>33722760.0</td>\n",
       "      <td>32 años</td>\n",
       "      <td>NaT</td>\n",
       "      <td>1988-06-22 00:00:00</td>\n",
       "      <td>44</td>\n",
       "      <td>Rafaela</td>\n",
       "      <td>cecilia</td>\n",
       "      <td>IAPOS</td>\n",
       "    </tr>\n",
       "    <tr>\n",
       "      <th>392</th>\n",
       "      <td>Cipolatti</td>\n",
       "      <td>33722760.0</td>\n",
       "      <td>34 años</td>\n",
       "      <td>2018-02-22</td>\n",
       "      <td>1988-06-22 00:00:00</td>\n",
       "      <td>433</td>\n",
       "      <td>Rafaela</td>\n",
       "      <td>Noelia</td>\n",
       "      <td>OSDE</td>\n",
       "    </tr>\n",
       "  </tbody>\n",
       "</table>\n",
       "</div>"
      ],
      "text/plain": [
       "      Apellido         DNI     Edad Fecha de creacion del registro  \\\n",
       "92   Cipolatti  33722760.0  32 años                            NaT   \n",
       "392  Cipolatti  33722760.0  34 años                     2018-02-22   \n",
       "\n",
       "        Fecha Nacimiento  ID Paciente Localidad  Nombres Obra Social  \n",
       "92   1988-06-22 00:00:00           44   Rafaela  cecilia       IAPOS  \n",
       "392  1988-06-22 00:00:00          433   Rafaela   Noelia        OSDE  "
      ]
     },
     "execution_count": 18,
     "metadata": {},
     "output_type": "execute_result"
    }
   ],
   "source": [
    "# Aplico un filtro para ver los datos de los DNI duplicados, y compruebo leyendo los demas datos, que es la misma paciente. \n",
    "\n",
    "step2[step2['DNI'] == 33722760.0]"
   ]
  },
  {
   "cell_type": "code",
   "execution_count": 19,
   "metadata": {},
   "outputs": [
    {
     "data": {
      "text/html": [
       "<div>\n",
       "<style scoped>\n",
       "    .dataframe tbody tr th:only-of-type {\n",
       "        vertical-align: middle;\n",
       "    }\n",
       "\n",
       "    .dataframe tbody tr th {\n",
       "        vertical-align: top;\n",
       "    }\n",
       "\n",
       "    .dataframe thead th {\n",
       "        text-align: right;\n",
       "    }\n",
       "</style>\n",
       "<table border=\"1\" class=\"dataframe\">\n",
       "  <thead>\n",
       "    <tr style=\"text-align: right;\">\n",
       "      <th></th>\n",
       "      <th>Apellido</th>\n",
       "      <th>DNI</th>\n",
       "      <th>Edad</th>\n",
       "      <th>Fecha de creacion del registro</th>\n",
       "      <th>Fecha Nacimiento</th>\n",
       "      <th>ID Paciente</th>\n",
       "      <th>Localidad</th>\n",
       "      <th>Nombres</th>\n",
       "      <th>Obra Social</th>\n",
       "    </tr>\n",
       "  </thead>\n",
       "  <tbody>\n",
       "    <tr>\n",
       "      <th>415</th>\n",
       "      <td>Toscana</td>\n",
       "      <td>29729292.0</td>\n",
       "      <td>NaN</td>\n",
       "      <td>2018-07-24</td>\n",
       "      <td>NaN</td>\n",
       "      <td>464</td>\n",
       "      <td>NaN</td>\n",
       "      <td>Mariela</td>\n",
       "      <td>OSDE</td>\n",
       "    </tr>\n",
       "    <tr>\n",
       "      <th>417</th>\n",
       "      <td>Toscana</td>\n",
       "      <td>29729292.0</td>\n",
       "      <td>NaN</td>\n",
       "      <td>2018-07-28</td>\n",
       "      <td>NaN</td>\n",
       "      <td>466</td>\n",
       "      <td>NaN</td>\n",
       "      <td>Mariela</td>\n",
       "      <td>OSDE</td>\n",
       "    </tr>\n",
       "  </tbody>\n",
       "</table>\n",
       "</div>"
      ],
      "text/plain": [
       "    Apellido         DNI Edad Fecha de creacion del registro Fecha Nacimiento  \\\n",
       "415  Toscana  29729292.0  NaN                     2018-07-24              NaN   \n",
       "417  Toscana  29729292.0  NaN                     2018-07-28              NaN   \n",
       "\n",
       "     ID Paciente Localidad  Nombres Obra Social  \n",
       "415          464       NaN  Mariela        OSDE  \n",
       "417          466       NaN  Mariela        OSDE  "
      ]
     },
     "execution_count": 19,
     "metadata": {},
     "output_type": "execute_result"
    }
   ],
   "source": [
    "step2[step2['DNI'] == 29729292.0]"
   ]
  },
  {
   "cell_type": "code",
   "execution_count": 20,
   "metadata": {},
   "outputs": [
    {
     "data": {
      "text/html": [
       "<div>\n",
       "<style scoped>\n",
       "    .dataframe tbody tr th:only-of-type {\n",
       "        vertical-align: middle;\n",
       "    }\n",
       "\n",
       "    .dataframe tbody tr th {\n",
       "        vertical-align: top;\n",
       "    }\n",
       "\n",
       "    .dataframe thead th {\n",
       "        text-align: right;\n",
       "    }\n",
       "</style>\n",
       "<table border=\"1\" class=\"dataframe\">\n",
       "  <thead>\n",
       "    <tr style=\"text-align: right;\">\n",
       "      <th></th>\n",
       "      <th>Apellido</th>\n",
       "      <th>DNI</th>\n",
       "      <th>Edad</th>\n",
       "      <th>Fecha de creacion del registro</th>\n",
       "      <th>Fecha Nacimiento</th>\n",
       "      <th>ID Paciente</th>\n",
       "      <th>Localidad</th>\n",
       "      <th>Nombres</th>\n",
       "      <th>Obra Social</th>\n",
       "    </tr>\n",
       "  </thead>\n",
       "  <tbody>\n",
       "    <tr>\n",
       "      <th>129</th>\n",
       "      <td>Caraffini</td>\n",
       "      <td>27484170.0</td>\n",
       "      <td>NaN</td>\n",
       "      <td>NaT</td>\n",
       "      <td>NaN</td>\n",
       "      <td>135</td>\n",
       "      <td>NaN</td>\n",
       "      <td>Mariela</td>\n",
       "      <td>SUTIAGA</td>\n",
       "    </tr>\n",
       "    <tr>\n",
       "      <th>408</th>\n",
       "      <td>Mariela Leonor</td>\n",
       "      <td>27484170.0</td>\n",
       "      <td>NaN</td>\n",
       "      <td>2018-04-25</td>\n",
       "      <td>NaN</td>\n",
       "      <td>453</td>\n",
       "      <td>NaN</td>\n",
       "      <td>Ceraffini</td>\n",
       "      <td>SUTIAGA</td>\n",
       "    </tr>\n",
       "  </tbody>\n",
       "</table>\n",
       "</div>"
      ],
      "text/plain": [
       "           Apellido         DNI Edad Fecha de creacion del registro  \\\n",
       "129       Caraffini  27484170.0  NaN                            NaT   \n",
       "408  Mariela Leonor  27484170.0  NaN                     2018-04-25   \n",
       "\n",
       "    Fecha Nacimiento  ID Paciente Localidad    Nombres Obra Social  \n",
       "129              NaN          135       NaN    Mariela     SUTIAGA  \n",
       "408              NaN          453       NaN  Ceraffini     SUTIAGA  "
      ]
     },
     "execution_count": 20,
     "metadata": {},
     "output_type": "execute_result"
    }
   ],
   "source": [
    "step2[step2['DNI'] == 27484170.0]"
   ]
  },
  {
   "cell_type": "code",
   "execution_count": 21,
   "metadata": {},
   "outputs": [
    {
     "data": {
      "text/html": [
       "<div>\n",
       "<style scoped>\n",
       "    .dataframe tbody tr th:only-of-type {\n",
       "        vertical-align: middle;\n",
       "    }\n",
       "\n",
       "    .dataframe tbody tr th {\n",
       "        vertical-align: top;\n",
       "    }\n",
       "\n",
       "    .dataframe thead th {\n",
       "        text-align: right;\n",
       "    }\n",
       "</style>\n",
       "<table border=\"1\" class=\"dataframe\">\n",
       "  <thead>\n",
       "    <tr style=\"text-align: right;\">\n",
       "      <th></th>\n",
       "      <th>Apellido</th>\n",
       "      <th>DNI</th>\n",
       "      <th>Edad</th>\n",
       "      <th>Fecha de creacion del registro</th>\n",
       "      <th>Fecha Nacimiento</th>\n",
       "      <th>ID Paciente</th>\n",
       "      <th>Localidad</th>\n",
       "      <th>Nombres</th>\n",
       "      <th>Obra Social</th>\n",
       "    </tr>\n",
       "  </thead>\n",
       "  <tbody>\n",
       "    <tr>\n",
       "      <th>92</th>\n",
       "      <td>Cipolatti</td>\n",
       "      <td>33722760.0</td>\n",
       "      <td>32 años</td>\n",
       "      <td>NaT</td>\n",
       "      <td>1988-06-22 00:00:00</td>\n",
       "      <td>44</td>\n",
       "      <td>Rafaela</td>\n",
       "      <td>cecilia</td>\n",
       "      <td>IAPOS</td>\n",
       "    </tr>\n",
       "    <tr>\n",
       "      <th>129</th>\n",
       "      <td>Caraffini</td>\n",
       "      <td>27484170.0</td>\n",
       "      <td>NaN</td>\n",
       "      <td>NaT</td>\n",
       "      <td>NaN</td>\n",
       "      <td>135</td>\n",
       "      <td>NaN</td>\n",
       "      <td>Mariela</td>\n",
       "      <td>SUTIAGA</td>\n",
       "    </tr>\n",
       "    <tr>\n",
       "      <th>417</th>\n",
       "      <td>Toscana</td>\n",
       "      <td>29729292.0</td>\n",
       "      <td>NaN</td>\n",
       "      <td>2018-07-28</td>\n",
       "      <td>NaN</td>\n",
       "      <td>466</td>\n",
       "      <td>NaN</td>\n",
       "      <td>Mariela</td>\n",
       "      <td>OSDE</td>\n",
       "    </tr>\n",
       "  </tbody>\n",
       "</table>\n",
       "</div>"
      ],
      "text/plain": [
       "      Apellido         DNI     Edad Fecha de creacion del registro  \\\n",
       "92   Cipolatti  33722760.0  32 años                            NaT   \n",
       "129  Caraffini  27484170.0      NaN                            NaT   \n",
       "417    Toscana  29729292.0      NaN                     2018-07-28   \n",
       "\n",
       "        Fecha Nacimiento  ID Paciente Localidad  Nombres Obra Social  \n",
       "92   1988-06-22 00:00:00           44   Rafaela  cecilia       IAPOS  \n",
       "129                  NaN          135       NaN  Mariela     SUTIAGA  \n",
       "417                  NaN          466       NaN  Mariela        OSDE  "
      ]
     },
     "execution_count": 21,
     "metadata": {},
     "output_type": "execute_result"
    }
   ],
   "source": [
    "#Despues de revisar, estos son los registros duplicados que no sirven, entonces son las filas a eliminar. \n",
    "step2.iloc[[91,128,416]]"
   ]
  },
  {
   "cell_type": "code",
   "execution_count": 22,
   "metadata": {},
   "outputs": [],
   "source": [
    "# Elimino las filas seleccionadas. Ojo, es el index explicito. En el paso anterior, el iloc utiliza el index implicito\n",
    "# STEP 3\n",
    "step3 = step2.drop([92,129,417])"
   ]
  },
  {
   "cell_type": "code",
   "execution_count": 23,
   "metadata": {},
   "outputs": [
    {
     "data": {
      "text/plain": [
       "14338475.0    1\n",
       "34673695.0    1\n",
       "27039276.0    1\n",
       "34379650.0    1\n",
       "34637810.0    1\n",
       "             ..\n",
       "31566648.0    1\n",
       "31179204.0    1\n",
       "35101314.0    1\n",
       "31157549.0    1\n",
       "47588071.0    1\n",
       "Name: DNI, Length: 760, dtype: int64"
      ]
     },
     "execution_count": 23,
     "metadata": {},
     "output_type": "execute_result"
    }
   ],
   "source": [
    "step3['DNI'].value_counts()"
   ]
  },
  {
   "cell_type": "code",
   "execution_count": 24,
   "metadata": {},
   "outputs": [
    {
     "data": {
      "text/html": [
       "<div>\n",
       "<style scoped>\n",
       "    .dataframe tbody tr th:only-of-type {\n",
       "        vertical-align: middle;\n",
       "    }\n",
       "\n",
       "    .dataframe tbody tr th {\n",
       "        vertical-align: top;\n",
       "    }\n",
       "\n",
       "    .dataframe thead th {\n",
       "        text-align: right;\n",
       "    }\n",
       "</style>\n",
       "<table border=\"1\" class=\"dataframe\">\n",
       "  <thead>\n",
       "    <tr style=\"text-align: right;\">\n",
       "      <th></th>\n",
       "      <th>Apellido</th>\n",
       "      <th>DNI</th>\n",
       "      <th>Edad</th>\n",
       "      <th>Fecha de creacion del registro</th>\n",
       "      <th>Fecha Nacimiento</th>\n",
       "      <th>ID Paciente</th>\n",
       "      <th>Localidad</th>\n",
       "      <th>Nombres</th>\n",
       "      <th>Obra Social</th>\n",
       "    </tr>\n",
       "  </thead>\n",
       "  <tbody>\n",
       "    <tr>\n",
       "      <th>392</th>\n",
       "      <td>Cipolatti</td>\n",
       "      <td>33722760.0</td>\n",
       "      <td>34 años</td>\n",
       "      <td>2018-02-22</td>\n",
       "      <td>1988-06-22 00:00:00</td>\n",
       "      <td>433</td>\n",
       "      <td>Rafaela</td>\n",
       "      <td>Noelia</td>\n",
       "      <td>OSDE</td>\n",
       "    </tr>\n",
       "  </tbody>\n",
       "</table>\n",
       "</div>"
      ],
      "text/plain": [
       "      Apellido         DNI     Edad Fecha de creacion del registro  \\\n",
       "392  Cipolatti  33722760.0  34 años                     2018-02-22   \n",
       "\n",
       "        Fecha Nacimiento  ID Paciente Localidad Nombres Obra Social  \n",
       "392  1988-06-22 00:00:00          433   Rafaela  Noelia        OSDE  "
      ]
     },
     "execution_count": 24,
     "metadata": {},
     "output_type": "execute_result"
    }
   ],
   "source": [
    "step3[step3['DNI'] == 33722760.0]"
   ]
  },
  {
   "cell_type": "code",
   "execution_count": 25,
   "metadata": {},
   "outputs": [
    {
     "data": {
      "text/plain": [
       "(906, 9)"
      ]
     },
     "execution_count": 25,
     "metadata": {},
     "output_type": "execute_result"
    }
   ],
   "source": [
    "step3.shape"
   ]
  },
  {
   "cell_type": "code",
   "execution_count": 26,
   "metadata": {},
   "outputs": [
    {
     "data": {
      "text/plain": [
       "(909, 9)"
      ]
     },
     "execution_count": 26,
     "metadata": {},
     "output_type": "execute_result"
    }
   ],
   "source": [
    "step2.shape"
   ]
  },
  {
   "cell_type": "code",
   "execution_count": 27,
   "metadata": {},
   "outputs": [
    {
     "data": {
      "text/plain": [
       "'61 años'"
      ]
     },
     "execution_count": 27,
     "metadata": {},
     "output_type": "execute_result"
    }
   ],
   "source": [
    "step3['Edad'][1]"
   ]
  },
  {
   "cell_type": "code",
   "execution_count": 28,
   "metadata": {},
   "outputs": [],
   "source": [
    "# Se eliminará el string \" años\" de la edad. Caundo usemos la edad, quitamos los Nan y lo pasamos a int. \n",
    "# STEP 4\n",
    "\n",
    "step3['Edad'] = step3['Edad'].str.replace(' años','')\n",
    "step4 = step3"
   ]
  },
  {
   "cell_type": "code",
   "execution_count": 29,
   "metadata": {},
   "outputs": [
    {
     "data": {
      "text/plain": [
       "'58'"
      ]
     },
     "execution_count": 29,
     "metadata": {},
     "output_type": "execute_result"
    }
   ],
   "source": [
    "step4['Edad'][2]"
   ]
  },
  {
   "cell_type": "code",
   "execution_count": 30,
   "metadata": {},
   "outputs": [
    {
     "data": {
      "text/html": [
       "<div>\n",
       "<style scoped>\n",
       "    .dataframe tbody tr th:only-of-type {\n",
       "        vertical-align: middle;\n",
       "    }\n",
       "\n",
       "    .dataframe tbody tr th {\n",
       "        vertical-align: top;\n",
       "    }\n",
       "\n",
       "    .dataframe thead th {\n",
       "        text-align: right;\n",
       "    }\n",
       "</style>\n",
       "<table border=\"1\" class=\"dataframe\">\n",
       "  <thead>\n",
       "    <tr style=\"text-align: right;\">\n",
       "      <th></th>\n",
       "      <th>Apellido</th>\n",
       "      <th>DNI</th>\n",
       "      <th>Edad</th>\n",
       "      <th>Fecha de creacion del registro</th>\n",
       "      <th>Fecha Nacimiento</th>\n",
       "      <th>ID Paciente</th>\n",
       "      <th>Localidad</th>\n",
       "      <th>Nombres</th>\n",
       "      <th>Obra Social</th>\n",
       "    </tr>\n",
       "  </thead>\n",
       "  <tbody>\n",
       "    <tr>\n",
       "      <th>1</th>\n",
       "      <td>Zurbriggen</td>\n",
       "      <td>14338475.0</td>\n",
       "      <td>61</td>\n",
       "      <td>NaT</td>\n",
       "      <td>1961-06-16 00:00:00</td>\n",
       "      <td>2</td>\n",
       "      <td>Rafaela</td>\n",
       "      <td>María Cristina</td>\n",
       "      <td>OSECAC</td>\n",
       "    </tr>\n",
       "    <tr>\n",
       "      <th>2</th>\n",
       "      <td>Zoratti</td>\n",
       "      <td>17008004.0</td>\n",
       "      <td>58</td>\n",
       "      <td>NaT</td>\n",
       "      <td>1964-07-24 00:00:00</td>\n",
       "      <td>3</td>\n",
       "      <td>Rafaela</td>\n",
       "      <td>Graciela</td>\n",
       "      <td>CENTRO ASISTENCIAL</td>\n",
       "    </tr>\n",
       "    <tr>\n",
       "      <th>3</th>\n",
       "      <td>Trossero</td>\n",
       "      <td>29215013.0</td>\n",
       "      <td>NaN</td>\n",
       "      <td>NaT</td>\n",
       "      <td>NaN</td>\n",
       "      <td>4</td>\n",
       "      <td>Ataliva</td>\n",
       "      <td>Daniela Laura</td>\n",
       "      <td>CENTRO ASISTENCIAL</td>\n",
       "    </tr>\n",
       "    <tr>\n",
       "      <th>4</th>\n",
       "      <td>Ingaramo</td>\n",
       "      <td>6480084.0</td>\n",
       "      <td>81</td>\n",
       "      <td>NaT</td>\n",
       "      <td>1941-06-13 00:00:00</td>\n",
       "      <td>5</td>\n",
       "      <td>Rafaela</td>\n",
       "      <td>Alcira</td>\n",
       "      <td>SANCOR</td>\n",
       "    </tr>\n",
       "    <tr>\n",
       "      <th>5</th>\n",
       "      <td>Condrac</td>\n",
       "      <td>29054123.0</td>\n",
       "      <td>40</td>\n",
       "      <td>NaT</td>\n",
       "      <td>1980-04-24 00:00:00</td>\n",
       "      <td>6</td>\n",
       "      <td>Rafaela</td>\n",
       "      <td>Keila</td>\n",
       "      <td>AMUR</td>\n",
       "    </tr>\n",
       "  </tbody>\n",
       "</table>\n",
       "</div>"
      ],
      "text/plain": [
       "     Apellido         DNI Edad Fecha de creacion del registro  \\\n",
       "1  Zurbriggen  14338475.0   61                            NaT   \n",
       "2     Zoratti  17008004.0   58                            NaT   \n",
       "3    Trossero  29215013.0  NaN                            NaT   \n",
       "4    Ingaramo   6480084.0   81                            NaT   \n",
       "5     Condrac  29054123.0   40                            NaT   \n",
       "\n",
       "      Fecha Nacimiento  ID Paciente Localidad         Nombres  \\\n",
       "1  1961-06-16 00:00:00            2   Rafaela  María Cristina   \n",
       "2  1964-07-24 00:00:00            3   Rafaela        Graciela   \n",
       "3                  NaN            4   Ataliva   Daniela Laura   \n",
       "4  1941-06-13 00:00:00            5   Rafaela          Alcira   \n",
       "5  1980-04-24 00:00:00            6   Rafaela           Keila   \n",
       "\n",
       "          Obra Social  \n",
       "1              OSECAC  \n",
       "2  CENTRO ASISTENCIAL  \n",
       "3  CENTRO ASISTENCIAL  \n",
       "4              SANCOR  \n",
       "5                AMUR  "
      ]
     },
     "execution_count": 30,
     "metadata": {},
     "output_type": "execute_result"
    }
   ],
   "source": [
    "step4.head()"
   ]
  },
  {
   "cell_type": "code",
   "execution_count": 31,
   "metadata": {},
   "outputs": [],
   "source": [
    "# Se modificará el nombre de la columna \"Fecha de creacion del registro\" por un nombre corto \"fecha_creacion\".\n",
    "# STEP 5\n",
    "step5 = step4.rename(columns={'Fecha de creacion del registro':'fecha_creacion'})"
   ]
  },
  {
   "cell_type": "code",
   "execution_count": 32,
   "metadata": {},
   "outputs": [
    {
     "data": {
      "text/plain": [
       "Index(['Apellido', 'DNI', 'Edad', 'fecha_creacion', 'Fecha Nacimiento',\n",
       "       'ID Paciente', 'Localidad', 'Nombres', 'Obra Social'],\n",
       "      dtype='object')"
      ]
     },
     "execution_count": 32,
     "metadata": {},
     "output_type": "execute_result"
    }
   ],
   "source": [
    "step5.columns"
   ]
  },
  {
   "cell_type": "code",
   "execution_count": 33,
   "metadata": {},
   "outputs": [],
   "source": [
    "# Se modificará el nombre de la columna \"Obra Social\" por el nombre \"Aseguradora\".\n",
    "# STEP 6\n",
    "\n",
    "step6 = step5.rename(columns={'Obra Social':'Aseguradora'})"
   ]
  },
  {
   "cell_type": "code",
   "execution_count": 34,
   "metadata": {},
   "outputs": [
    {
     "data": {
      "text/plain": [
       "Index(['Apellido', 'DNI', 'Edad', 'fecha_creacion', 'Fecha Nacimiento',\n",
       "       'ID Paciente', 'Localidad', 'Nombres', 'Aseguradora'],\n",
       "      dtype='object')"
      ]
     },
     "execution_count": 34,
     "metadata": {},
     "output_type": "execute_result"
    }
   ],
   "source": [
    "step6.columns"
   ]
  },
  {
   "cell_type": "code",
   "execution_count": 35,
   "metadata": {},
   "outputs": [
    {
     "name": "stdout",
     "output_type": "stream",
     "text": [
      "<class 'pandas.core.frame.DataFrame'>\n",
      "Int64Index: 906 entries, 1 to 909\n",
      "Data columns (total 9 columns):\n",
      " #   Column            Non-Null Count  Dtype         \n",
      "---  ------            --------------  -----         \n",
      " 0   Apellido          871 non-null    object        \n",
      " 1   DNI               760 non-null    float64       \n",
      " 2   Edad              693 non-null    object        \n",
      " 3   fecha_creacion    724 non-null    datetime64[ns]\n",
      " 4   Fecha Nacimiento  693 non-null    object        \n",
      " 5   ID Paciente       906 non-null    int64         \n",
      " 6   Localidad         722 non-null    object        \n",
      " 7   Nombres           874 non-null    object        \n",
      " 8   Aseguradora       847 non-null    object        \n",
      "dtypes: datetime64[ns](1), float64(1), int64(1), object(6)\n",
      "memory usage: 103.1+ KB\n"
     ]
    }
   ],
   "source": [
    "# Se eliminarán las horas:min:seg de la columna Fecha de Nacimiento.\n",
    "# STEP 7\n",
    "\n",
    "step6.info()\n"
   ]
  },
  {
   "cell_type": "code",
   "execution_count": 36,
   "metadata": {},
   "outputs": [],
   "source": [
    "from datetime import datetime"
   ]
  },
  {
   "cell_type": "code",
   "execution_count": 37,
   "metadata": {},
   "outputs": [],
   "source": [
    "# Aqui me paso algo muy raro. No podia trabajar con la columna \" Fecha Nacimiento\" para quitarle los mm:hh:ss porque habia un valor str (el Dtype es Object), pero el resto son datetime. Por eso me daba error. \n",
    "# Entonces me fui al archivo original e identifique la fila. Me di cuenta que la fecha estaba mal ingresada (el año 0198). \n",
    "# Decidi eliminar la fila completa, porque no podria corregirla al no saber el dato correcto. Prefiero no tenerlo. "
   ]
  },
  {
   "cell_type": "code",
   "execution_count": 38,
   "metadata": {},
   "outputs": [
    {
     "data": {
      "text/html": [
       "<div>\n",
       "<style scoped>\n",
       "    .dataframe tbody tr th:only-of-type {\n",
       "        vertical-align: middle;\n",
       "    }\n",
       "\n",
       "    .dataframe tbody tr th {\n",
       "        vertical-align: top;\n",
       "    }\n",
       "\n",
       "    .dataframe thead th {\n",
       "        text-align: right;\n",
       "    }\n",
       "</style>\n",
       "<table border=\"1\" class=\"dataframe\">\n",
       "  <thead>\n",
       "    <tr style=\"text-align: right;\">\n",
       "      <th></th>\n",
       "      <th>Apellido</th>\n",
       "      <th>DNI</th>\n",
       "      <th>Edad</th>\n",
       "      <th>fecha_creacion</th>\n",
       "      <th>Fecha Nacimiento</th>\n",
       "      <th>ID Paciente</th>\n",
       "      <th>Localidad</th>\n",
       "      <th>Nombres</th>\n",
       "      <th>Aseguradora</th>\n",
       "    </tr>\n",
       "  </thead>\n",
       "  <tbody>\n",
       "    <tr>\n",
       "      <th>495</th>\n",
       "      <td>Alarcon</td>\n",
       "      <td>30562951.0</td>\n",
       "      <td>1824</td>\n",
       "      <td>2019-05-23</td>\n",
       "      <td>07/05/0198</td>\n",
       "      <td>555</td>\n",
       "      <td>Susana</td>\n",
       "      <td>Debora</td>\n",
       "      <td>OPDEA</td>\n",
       "    </tr>\n",
       "  </tbody>\n",
       "</table>\n",
       "</div>"
      ],
      "text/plain": [
       "    Apellido         DNI  Edad fecha_creacion Fecha Nacimiento  ID Paciente  \\\n",
       "495  Alarcon  30562951.0  1824     2019-05-23       07/05/0198          555   \n",
       "\n",
       "    Localidad Nombres Aseguradora  \n",
       "495    Susana  Debora       OPDEA  "
      ]
     },
     "execution_count": 38,
     "metadata": {},
     "output_type": "execute_result"
    }
   ],
   "source": [
    "step6.loc[step6['Fecha Nacimiento'] == '07/05/0198']"
   ]
  },
  {
   "cell_type": "code",
   "execution_count": 39,
   "metadata": {},
   "outputs": [
    {
     "data": {
      "text/plain": [
       "'07/05/0198'"
      ]
     },
     "execution_count": 39,
     "metadata": {},
     "output_type": "execute_result"
    }
   ],
   "source": [
    "step6['Fecha Nacimiento'][495]"
   ]
  },
  {
   "cell_type": "code",
   "execution_count": 40,
   "metadata": {},
   "outputs": [
    {
     "data": {
      "text/plain": [
       "(906, 9)"
      ]
     },
     "execution_count": 40,
     "metadata": {},
     "output_type": "execute_result"
    }
   ],
   "source": [
    "step6.shape"
   ]
  },
  {
   "cell_type": "code",
   "execution_count": 41,
   "metadata": {},
   "outputs": [],
   "source": [
    "step7 = step6.drop([495])"
   ]
  },
  {
   "cell_type": "code",
   "execution_count": 42,
   "metadata": {},
   "outputs": [
    {
     "data": {
      "text/plain": [
       "(905, 9)"
      ]
     },
     "execution_count": 42,
     "metadata": {},
     "output_type": "execute_result"
    }
   ],
   "source": [
    "step7.shape"
   ]
  },
  {
   "cell_type": "code",
   "execution_count": 43,
   "metadata": {},
   "outputs": [
    {
     "name": "stdout",
     "output_type": "stream",
     "text": [
      "<class 'pandas.core.frame.DataFrame'>\n",
      "Int64Index: 905 entries, 1 to 909\n",
      "Data columns (total 9 columns):\n",
      " #   Column            Non-Null Count  Dtype         \n",
      "---  ------            --------------  -----         \n",
      " 0   Apellido          870 non-null    object        \n",
      " 1   DNI               759 non-null    float64       \n",
      " 2   Edad              692 non-null    object        \n",
      " 3   fecha_creacion    723 non-null    datetime64[ns]\n",
      " 4   Fecha Nacimiento  692 non-null    object        \n",
      " 5   ID Paciente       905 non-null    int64         \n",
      " 6   Localidad         721 non-null    object        \n",
      " 7   Nombres           873 non-null    object        \n",
      " 8   Aseguradora       846 non-null    object        \n",
      "dtypes: datetime64[ns](1), float64(1), int64(1), object(6)\n",
      "memory usage: 70.7+ KB\n"
     ]
    }
   ],
   "source": [
    "# Sigue siendo Object\n",
    "step7.info()"
   ]
  },
  {
   "cell_type": "code",
   "execution_count": 44,
   "metadata": {},
   "outputs": [],
   "source": [
    "step7['Fecha Nacimiento'] = pd.to_datetime(step7['Fecha Nacimiento'])"
   ]
  },
  {
   "cell_type": "code",
   "execution_count": 45,
   "metadata": {},
   "outputs": [
    {
     "name": "stdout",
     "output_type": "stream",
     "text": [
      "<class 'pandas.core.frame.DataFrame'>\n",
      "Int64Index: 905 entries, 1 to 909\n",
      "Data columns (total 9 columns):\n",
      " #   Column            Non-Null Count  Dtype         \n",
      "---  ------            --------------  -----         \n",
      " 0   Apellido          870 non-null    object        \n",
      " 1   DNI               759 non-null    float64       \n",
      " 2   Edad              692 non-null    object        \n",
      " 3   fecha_creacion    723 non-null    datetime64[ns]\n",
      " 4   Fecha Nacimiento  692 non-null    datetime64[ns]\n",
      " 5   ID Paciente       905 non-null    int64         \n",
      " 6   Localidad         721 non-null    object        \n",
      " 7   Nombres           873 non-null    object        \n",
      " 8   Aseguradora       846 non-null    object        \n",
      "dtypes: datetime64[ns](2), float64(1), int64(1), object(5)\n",
      "memory usage: 70.7+ KB\n"
     ]
    }
   ],
   "source": [
    "# Ahora por fin es Datetime!\n",
    "step7.info()"
   ]
  },
  {
   "cell_type": "code",
   "execution_count": 46,
   "metadata": {},
   "outputs": [
    {
     "data": {
      "text/plain": [
       "1      1961-06-16\n",
       "2      1964-07-24\n",
       "3             NaT\n",
       "4      1941-06-13\n",
       "5      1980-04-24\n",
       "          ...    \n",
       "905           NaT\n",
       "906           NaT\n",
       "907           NaT\n",
       "908           NaT\n",
       "909           NaT\n",
       "Name: Fecha Nacimiento, Length: 905, dtype: object"
      ]
     },
     "execution_count": 46,
     "metadata": {},
     "output_type": "execute_result"
    }
   ],
   "source": [
    "# Le quito los caracteres hh:mm:ss\n",
    "\n",
    "pd.to_datetime(step7['Fecha Nacimiento']).dt.date\n"
   ]
  },
  {
   "cell_type": "code",
   "execution_count": 47,
   "metadata": {},
   "outputs": [
    {
     "data": {
      "text/plain": [
       "(905, 9)"
      ]
     },
     "execution_count": 47,
     "metadata": {},
     "output_type": "execute_result"
    }
   ],
   "source": [
    "step7.shape"
   ]
  },
  {
   "cell_type": "code",
   "execution_count": 48,
   "metadata": {},
   "outputs": [
    {
     "data": {
      "text/html": [
       "<div>\n",
       "<style scoped>\n",
       "    .dataframe tbody tr th:only-of-type {\n",
       "        vertical-align: middle;\n",
       "    }\n",
       "\n",
       "    .dataframe tbody tr th {\n",
       "        vertical-align: top;\n",
       "    }\n",
       "\n",
       "    .dataframe thead th {\n",
       "        text-align: right;\n",
       "    }\n",
       "</style>\n",
       "<table border=\"1\" class=\"dataframe\">\n",
       "  <thead>\n",
       "    <tr style=\"text-align: right;\">\n",
       "      <th></th>\n",
       "      <th>Apellido</th>\n",
       "      <th>DNI</th>\n",
       "      <th>Edad</th>\n",
       "      <th>fecha_creacion</th>\n",
       "      <th>Fecha Nacimiento</th>\n",
       "      <th>ID Paciente</th>\n",
       "      <th>Localidad</th>\n",
       "      <th>Nombres</th>\n",
       "      <th>Aseguradora</th>\n",
       "    </tr>\n",
       "  </thead>\n",
       "  <tbody>\n",
       "    <tr>\n",
       "      <th>1</th>\n",
       "      <td>Zurbriggen</td>\n",
       "      <td>14338475.0</td>\n",
       "      <td>61</td>\n",
       "      <td>NaT</td>\n",
       "      <td>1961-06-16</td>\n",
       "      <td>2</td>\n",
       "      <td>Rafaela</td>\n",
       "      <td>María Cristina</td>\n",
       "      <td>OSECAC</td>\n",
       "    </tr>\n",
       "    <tr>\n",
       "      <th>2</th>\n",
       "      <td>Zoratti</td>\n",
       "      <td>17008004.0</td>\n",
       "      <td>58</td>\n",
       "      <td>NaT</td>\n",
       "      <td>1964-07-24</td>\n",
       "      <td>3</td>\n",
       "      <td>Rafaela</td>\n",
       "      <td>Graciela</td>\n",
       "      <td>CENTRO ASISTENCIAL</td>\n",
       "    </tr>\n",
       "    <tr>\n",
       "      <th>3</th>\n",
       "      <td>Trossero</td>\n",
       "      <td>29215013.0</td>\n",
       "      <td>NaN</td>\n",
       "      <td>NaT</td>\n",
       "      <td>NaT</td>\n",
       "      <td>4</td>\n",
       "      <td>Ataliva</td>\n",
       "      <td>Daniela Laura</td>\n",
       "      <td>CENTRO ASISTENCIAL</td>\n",
       "    </tr>\n",
       "    <tr>\n",
       "      <th>4</th>\n",
       "      <td>Ingaramo</td>\n",
       "      <td>6480084.0</td>\n",
       "      <td>81</td>\n",
       "      <td>NaT</td>\n",
       "      <td>1941-06-13</td>\n",
       "      <td>5</td>\n",
       "      <td>Rafaela</td>\n",
       "      <td>Alcira</td>\n",
       "      <td>SANCOR</td>\n",
       "    </tr>\n",
       "    <tr>\n",
       "      <th>5</th>\n",
       "      <td>Condrac</td>\n",
       "      <td>29054123.0</td>\n",
       "      <td>40</td>\n",
       "      <td>NaT</td>\n",
       "      <td>1980-04-24</td>\n",
       "      <td>6</td>\n",
       "      <td>Rafaela</td>\n",
       "      <td>Keila</td>\n",
       "      <td>AMUR</td>\n",
       "    </tr>\n",
       "  </tbody>\n",
       "</table>\n",
       "</div>"
      ],
      "text/plain": [
       "     Apellido         DNI Edad fecha_creacion Fecha Nacimiento  ID Paciente  \\\n",
       "1  Zurbriggen  14338475.0   61            NaT       1961-06-16            2   \n",
       "2     Zoratti  17008004.0   58            NaT       1964-07-24            3   \n",
       "3    Trossero  29215013.0  NaN            NaT              NaT            4   \n",
       "4    Ingaramo   6480084.0   81            NaT       1941-06-13            5   \n",
       "5     Condrac  29054123.0   40            NaT       1980-04-24            6   \n",
       "\n",
       "  Localidad         Nombres         Aseguradora  \n",
       "1   Rafaela  María Cristina              OSECAC  \n",
       "2   Rafaela        Graciela  CENTRO ASISTENCIAL  \n",
       "3   Ataliva   Daniela Laura  CENTRO ASISTENCIAL  \n",
       "4   Rafaela          Alcira              SANCOR  \n",
       "5   Rafaela           Keila                AMUR  "
      ]
     },
     "execution_count": 48,
     "metadata": {},
     "output_type": "execute_result"
    }
   ],
   "source": [
    "step7.head()"
   ]
  },
  {
   "cell_type": "code",
   "execution_count": 49,
   "metadata": {},
   "outputs": [],
   "source": [
    "# Ahora el dataframe grande esta limpio, lo voy a guardar\n",
    "\n",
    "pacientes_processed = step7\n",
    "\n",
    "pacientes_processed.to_csv('Datos de pacientes - Processed.csv')"
   ]
  },
  {
   "attachments": {},
   "cell_type": "markdown",
   "metadata": {},
   "source": [
    "#### ***Ahora empieza la limpieza final y el primer analisis univariable***. Dataset A."
   ]
  },
  {
   "cell_type": "code",
   "execution_count": 50,
   "metadata": {},
   "outputs": [
    {
     "data": {
      "text/html": [
       "<div>\n",
       "<style scoped>\n",
       "    .dataframe tbody tr th:only-of-type {\n",
       "        vertical-align: middle;\n",
       "    }\n",
       "\n",
       "    .dataframe tbody tr th {\n",
       "        vertical-align: top;\n",
       "    }\n",
       "\n",
       "    .dataframe thead th {\n",
       "        text-align: right;\n",
       "    }\n",
       "</style>\n",
       "<table border=\"1\" class=\"dataframe\">\n",
       "  <thead>\n",
       "    <tr style=\"text-align: right;\">\n",
       "      <th></th>\n",
       "      <th>Fecha Nacimiento</th>\n",
       "      <th>fecha_creacion</th>\n",
       "    </tr>\n",
       "  </thead>\n",
       "  <tbody>\n",
       "    <tr>\n",
       "      <th>1</th>\n",
       "      <td>1961-06-16</td>\n",
       "      <td>NaT</td>\n",
       "    </tr>\n",
       "    <tr>\n",
       "      <th>2</th>\n",
       "      <td>1964-07-24</td>\n",
       "      <td>NaT</td>\n",
       "    </tr>\n",
       "    <tr>\n",
       "      <th>3</th>\n",
       "      <td>NaT</td>\n",
       "      <td>NaT</td>\n",
       "    </tr>\n",
       "    <tr>\n",
       "      <th>4</th>\n",
       "      <td>1941-06-13</td>\n",
       "      <td>NaT</td>\n",
       "    </tr>\n",
       "    <tr>\n",
       "      <th>5</th>\n",
       "      <td>1980-04-24</td>\n",
       "      <td>NaT</td>\n",
       "    </tr>\n",
       "    <tr>\n",
       "      <th>...</th>\n",
       "      <td>...</td>\n",
       "      <td>...</td>\n",
       "    </tr>\n",
       "    <tr>\n",
       "      <th>905</th>\n",
       "      <td>NaT</td>\n",
       "      <td>2023-04-03</td>\n",
       "    </tr>\n",
       "    <tr>\n",
       "      <th>906</th>\n",
       "      <td>NaT</td>\n",
       "      <td>2023-04-04</td>\n",
       "    </tr>\n",
       "    <tr>\n",
       "      <th>907</th>\n",
       "      <td>NaT</td>\n",
       "      <td>2023-04-04</td>\n",
       "    </tr>\n",
       "    <tr>\n",
       "      <th>908</th>\n",
       "      <td>NaT</td>\n",
       "      <td>2023-04-11</td>\n",
       "    </tr>\n",
       "    <tr>\n",
       "      <th>909</th>\n",
       "      <td>NaT</td>\n",
       "      <td>2023-04-11</td>\n",
       "    </tr>\n",
       "  </tbody>\n",
       "</table>\n",
       "<p>905 rows × 2 columns</p>\n",
       "</div>"
      ],
      "text/plain": [
       "    Fecha Nacimiento fecha_creacion\n",
       "1         1961-06-16            NaT\n",
       "2         1964-07-24            NaT\n",
       "3                NaT            NaT\n",
       "4         1941-06-13            NaT\n",
       "5         1980-04-24            NaT\n",
       "..               ...            ...\n",
       "905              NaT     2023-04-03\n",
       "906              NaT     2023-04-04\n",
       "907              NaT     2023-04-04\n",
       "908              NaT     2023-04-11\n",
       "909              NaT     2023-04-11\n",
       "\n",
       "[905 rows x 2 columns]"
      ]
     },
     "execution_count": 50,
     "metadata": {},
     "output_type": "execute_result"
    }
   ],
   "source": [
    "# Necesito tener la edad en la primera cita\n",
    "\n",
    "edad_firstdate = pacientes_processed[['Fecha Nacimiento','fecha_creacion']]\n",
    "edad_firstdate"
   ]
  },
  {
   "cell_type": "code",
   "execution_count": 51,
   "metadata": {},
   "outputs": [
    {
     "name": "stderr",
     "output_type": "stream",
     "text": [
      "C:\\Users\\Rafael Ortega\\AppData\\Roaming\\Python\\Python37\\site-packages\\ipykernel_launcher.py:1: SettingWithCopyWarning: \n",
      "A value is trying to be set on a copy of a slice from a DataFrame.\n",
      "Try using .loc[row_indexer,col_indexer] = value instead\n",
      "\n",
      "See the caveats in the documentation: https://pandas.pydata.org/pandas-docs/stable/user_guide/indexing.html#returning-a-view-versus-a-copy\n",
      "  \"\"\"Entry point for launching an IPython kernel.\n"
     ]
    },
    {
     "data": {
      "text/html": [
       "<div>\n",
       "<style scoped>\n",
       "    .dataframe tbody tr th:only-of-type {\n",
       "        vertical-align: middle;\n",
       "    }\n",
       "\n",
       "    .dataframe tbody tr th {\n",
       "        vertical-align: top;\n",
       "    }\n",
       "\n",
       "    .dataframe thead th {\n",
       "        text-align: right;\n",
       "    }\n",
       "</style>\n",
       "<table border=\"1\" class=\"dataframe\">\n",
       "  <thead>\n",
       "    <tr style=\"text-align: right;\">\n",
       "      <th></th>\n",
       "      <th>Fecha Nacimiento</th>\n",
       "      <th>fecha_creacion</th>\n",
       "      <th>Edad_primera_vez</th>\n",
       "    </tr>\n",
       "  </thead>\n",
       "  <tbody>\n",
       "    <tr>\n",
       "      <th>185</th>\n",
       "      <td>1983-01-30</td>\n",
       "      <td>2015-09-17</td>\n",
       "      <td>32.652055</td>\n",
       "    </tr>\n",
       "    <tr>\n",
       "      <th>186</th>\n",
       "      <td>1985-05-15</td>\n",
       "      <td>2015-09-24</td>\n",
       "      <td>30.380822</td>\n",
       "    </tr>\n",
       "    <tr>\n",
       "      <th>187</th>\n",
       "      <td>1982-02-02</td>\n",
       "      <td>2015-10-05</td>\n",
       "      <td>33.693151</td>\n",
       "    </tr>\n",
       "    <tr>\n",
       "      <th>188</th>\n",
       "      <td>1981-05-20</td>\n",
       "      <td>2015-10-23</td>\n",
       "      <td>34.449315</td>\n",
       "    </tr>\n",
       "    <tr>\n",
       "      <th>189</th>\n",
       "      <td>1985-04-12</td>\n",
       "      <td>2015-10-23</td>\n",
       "      <td>30.550685</td>\n",
       "    </tr>\n",
       "  </tbody>\n",
       "</table>\n",
       "</div>"
      ],
      "text/plain": [
       "    Fecha Nacimiento fecha_creacion  Edad_primera_vez\n",
       "185       1983-01-30     2015-09-17         32.652055\n",
       "186       1985-05-15     2015-09-24         30.380822\n",
       "187       1982-02-02     2015-10-05         33.693151\n",
       "188       1981-05-20     2015-10-23         34.449315\n",
       "189       1985-04-12     2015-10-23         30.550685"
      ]
     },
     "execution_count": 51,
     "metadata": {},
     "output_type": "execute_result"
    }
   ],
   "source": [
    "edad_firstdate['Edad_primera_vez'] =  ((edad_firstdate['fecha_creacion'] - edad_firstdate['Fecha Nacimiento']).dt.days / 365)\n",
    "edad_firstdate[edad_firstdate['Edad_primera_vez'].notnull()].head()"
   ]
  },
  {
   "cell_type": "code",
   "execution_count": 52,
   "metadata": {},
   "outputs": [
    {
     "name": "stdout",
     "output_type": "stream",
     "text": [
      "<class 'pandas.core.frame.DataFrame'>\n",
      "Int64Index: 905 entries, 1 to 909\n",
      "Data columns (total 3 columns):\n",
      " #   Column            Non-Null Count  Dtype         \n",
      "---  ------            --------------  -----         \n",
      " 0   Fecha Nacimiento  692 non-null    datetime64[ns]\n",
      " 1   fecha_creacion    723 non-null    datetime64[ns]\n",
      " 2   Edad_primera_vez  557 non-null    float64       \n",
      "dtypes: datetime64[ns](2), float64(1)\n",
      "memory usage: 28.3 KB\n"
     ]
    }
   ],
   "source": [
    "edad_firstdate.info()"
   ]
  },
  {
   "cell_type": "code",
   "execution_count": 53,
   "metadata": {},
   "outputs": [
    {
     "name": "stdout",
     "output_type": "stream",
     "text": [
      "<class 'pandas.core.frame.DataFrame'>\n",
      "Int64Index: 557 entries, 185 to 902\n",
      "Data columns (total 3 columns):\n",
      " #   Column            Non-Null Count  Dtype         \n",
      "---  ------            --------------  -----         \n",
      " 0   Fecha Nacimiento  557 non-null    datetime64[ns]\n",
      " 1   fecha_creacion    557 non-null    datetime64[ns]\n",
      " 2   Edad_primera_vez  557 non-null    float64       \n",
      "dtypes: datetime64[ns](2), float64(1)\n",
      "memory usage: 17.4 KB\n"
     ]
    }
   ],
   "source": [
    "# Solo tengo 557 registros utiles, tendre que eliminar lon Nulls. Y despues pasarlo a int. \n",
    "edad_firstdate_1 = edad_firstdate.dropna(subset=['Edad_primera_vez'])\n",
    "edad_firstdate_1.info()"
   ]
  },
  {
   "cell_type": "code",
   "execution_count": 54,
   "metadata": {},
   "outputs": [
    {
     "name": "stdout",
     "output_type": "stream",
     "text": [
      "<class 'pandas.core.frame.DataFrame'>\n",
      "Int64Index: 557 entries, 185 to 902\n",
      "Data columns (total 3 columns):\n",
      " #   Column            Non-Null Count  Dtype         \n",
      "---  ------            --------------  -----         \n",
      " 0   Fecha Nacimiento  557 non-null    datetime64[ns]\n",
      " 1   fecha_creacion    557 non-null    datetime64[ns]\n",
      " 2   Edad_primera_vez  557 non-null    int32         \n",
      "dtypes: datetime64[ns](2), int32(1)\n",
      "memory usage: 15.2 KB\n"
     ]
    },
    {
     "name": "stderr",
     "output_type": "stream",
     "text": [
      "C:\\Users\\Rafael Ortega\\AppData\\Roaming\\Python\\Python37\\site-packages\\ipykernel_launcher.py:3: SettingWithCopyWarning: \n",
      "A value is trying to be set on a copy of a slice from a DataFrame.\n",
      "Try using .loc[row_indexer,col_indexer] = value instead\n",
      "\n",
      "See the caveats in the documentation: https://pandas.pydata.org/pandas-docs/stable/user_guide/indexing.html#returning-a-view-versus-a-copy\n",
      "  This is separate from the ipykernel package so we can avoid doing imports until\n"
     ]
    }
   ],
   "source": [
    "# Ahora si, puedo pasar a int y mostrar los datos como edad.\n",
    "\n",
    "edad_firstdate_1['Edad_primera_vez'] = edad_firstdate_1['Edad_primera_vez'].astype(int)\n",
    "edad_firstdate_1.info()"
   ]
  },
  {
   "attachments": {},
   "cell_type": "markdown",
   "metadata": {},
   "source": [
    "**¿Que edad tenian los pacientes cuando solicitaron cita por primera vez?**"
   ]
  },
  {
   "cell_type": "code",
   "execution_count": 55,
   "metadata": {},
   "outputs": [
    {
     "data": {
      "text/html": [
       "<div>\n",
       "<style scoped>\n",
       "    .dataframe tbody tr th:only-of-type {\n",
       "        vertical-align: middle;\n",
       "    }\n",
       "\n",
       "    .dataframe tbody tr th {\n",
       "        vertical-align: top;\n",
       "    }\n",
       "\n",
       "    .dataframe thead th {\n",
       "        text-align: right;\n",
       "    }\n",
       "</style>\n",
       "<table border=\"1\" class=\"dataframe\">\n",
       "  <thead>\n",
       "    <tr style=\"text-align: right;\">\n",
       "      <th></th>\n",
       "      <th>Edad_primera_vez</th>\n",
       "    </tr>\n",
       "  </thead>\n",
       "  <tbody>\n",
       "    <tr>\n",
       "      <th>count</th>\n",
       "      <td>557.000000</td>\n",
       "    </tr>\n",
       "    <tr>\n",
       "      <th>mean</th>\n",
       "      <td>34.323160</td>\n",
       "    </tr>\n",
       "    <tr>\n",
       "      <th>std</th>\n",
       "      <td>8.893033</td>\n",
       "    </tr>\n",
       "    <tr>\n",
       "      <th>min</th>\n",
       "      <td>15.000000</td>\n",
       "    </tr>\n",
       "    <tr>\n",
       "      <th>25%</th>\n",
       "      <td>29.000000</td>\n",
       "    </tr>\n",
       "    <tr>\n",
       "      <th>50%</th>\n",
       "      <td>33.000000</td>\n",
       "    </tr>\n",
       "    <tr>\n",
       "      <th>75%</th>\n",
       "      <td>38.000000</td>\n",
       "    </tr>\n",
       "    <tr>\n",
       "      <th>max</th>\n",
       "      <td>78.000000</td>\n",
       "    </tr>\n",
       "  </tbody>\n",
       "</table>\n",
       "</div>"
      ],
      "text/plain": [
       "       Edad_primera_vez\n",
       "count        557.000000\n",
       "mean          34.323160\n",
       "std            8.893033\n",
       "min           15.000000\n",
       "25%           29.000000\n",
       "50%           33.000000\n",
       "75%           38.000000\n",
       "max           78.000000"
      ]
     },
     "execution_count": 55,
     "metadata": {},
     "output_type": "execute_result"
    }
   ],
   "source": [
    "# Ahora si! Creo que tengo mi primer analisis.\n",
    "\n",
    "edad_firstdate_1[['Edad_primera_vez']].describe()"
   ]
  },
  {
   "cell_type": "code",
   "execution_count": 56,
   "metadata": {},
   "outputs": [
    {
     "data": {
      "text/plain": [
       "Edad_primera_vez    34.32316\n",
       "dtype: float64"
      ]
     },
     "execution_count": 56,
     "metadata": {},
     "output_type": "execute_result"
    }
   ],
   "source": [
    "edad_firstdate_1[['Edad_primera_vez']].mean()"
   ]
  },
  {
   "cell_type": "code",
   "execution_count": 57,
   "metadata": {},
   "outputs": [
    {
     "data": {
      "text/plain": [
       "Edad_primera_vez\n",
       "31                  39\n",
       "32                  33\n",
       "30                  33\n",
       "35                  32\n",
       "37                  30\n",
       "dtype: int64"
      ]
     },
     "execution_count": 57,
     "metadata": {},
     "output_type": "execute_result"
    }
   ],
   "source": [
    "edad_firstdate_1[['Edad_primera_vez']].value_counts().head()"
   ]
  },
  {
   "cell_type": "code",
   "execution_count": 58,
   "metadata": {},
   "outputs": [],
   "source": [
    "import seaborn as sns\n",
    "import matplotlib.pyplot as plt"
   ]
  },
  {
   "cell_type": "code",
   "execution_count": 59,
   "metadata": {},
   "outputs": [
    {
     "data": {
      "image/png": "[encoded data removed]",
      "text/plain": [
       "<Figure size 600x400 with 1 Axes>"
      ]
     },
     "metadata": {},
     "output_type": "display_data"
    }
   ],
   "source": [
    "sns.displot(data=edad_firstdate_1, color=\"#001970\",kde=True, rug=False, legend=False, height=4, aspect=1.5)\n",
    "plt.xlabel('Edad en la primera cita')\n",
    "plt.ylabel('Cantidad')\n",
    "plt.title('Distribucion de la edad en la primera cita')\n",
    "plt.savefig('Distribucion de la edad en la primera cita.png')"
   ]
  },
  {
   "cell_type": "code",
   "execution_count": 60,
   "metadata": {},
   "outputs": [],
   "source": [
    "# sns.distplot( a=edad_firstdate_1[\"Edad_primera_vez\"], hist=True, kde=True, rug=False, color='darkblue', hist_kws={'edgecolor':'black'});\n",
    "# plt.xlabel('Edad en la primera cita')\n",
    "# plt.ylabel('Cantidad')\n",
    "# plt.title('Distribucion de la edad en la primera cita')\n",
    "# plt.savefig('Distribucion de la edad en la primera cita.png')"
   ]
  },
  {
   "cell_type": "code",
   "execution_count": 61,
   "metadata": {},
   "outputs": [
    {
     "name": "stderr",
     "output_type": "stream",
     "text": [
      "C:\\Users\\Rafael Ortega\\AppData\\Roaming\\Python\\Python37\\site-packages\\ipykernel_launcher.py:5: UserWarning: \n",
      "\n",
      "`distplot` is a deprecated function and will be removed in seaborn v0.14.0.\n",
      "\n",
      "Please adapt your code to use either `displot` (a figure-level function with\n",
      "similar flexibility) or `histplot` (an axes-level function for histograms).\n",
      "\n",
      "For a guide to updating your code to use the new functions, please see\n",
      "https://gist.github.com/mwaskom/de44147ed2974457ad6372750bbe5751\n",
      "\n",
      "  \"\"\"\n"
     ]
    },
    {
     "data": {
      "image/png": "[encoded data removed]",
      "text/plain": [
       "<Figure size 640x480 with 1 Axes>"
      ]
     },
     "metadata": {},
     "output_type": "display_data"
    }
   ],
   "source": [
    "sns.distplot(edad_firstdate_1[\"Edad_primera_vez\"],\n",
    "             hist=True,\n",
    "             kde=False,\n",
    "             color='b',\n",
    "             bins=100);"
   ]
  },
  {
   "cell_type": "code",
   "execution_count": 62,
   "metadata": {},
   "outputs": [
    {
     "data": {
      "text/plain": [
       "<seaborn.axisgrid.FacetGrid at 0x23d5e514308>"
      ]
     },
     "execution_count": 62,
     "metadata": {},
     "output_type": "execute_result"
    },
    {
     "data": {
      "image/png": "[encoded data removed]",
      "text/plain": [
       "<Figure size 600x400 with 1 Axes>"
      ]
     },
     "metadata": {},
     "output_type": "display_data"
    }
   ],
   "source": [
    "sns.displot(edad_firstdate_1[\"Edad_primera_vez\"],color='#001970',kde=True, rug=False, legend=False, height=4, aspect=1.5)"
   ]
  },
  {
   "attachments": {},
   "cell_type": "markdown",
   "metadata": {},
   "source": [
    "**¿En que localidad residen las pacientes?**"
   ]
  },
  {
   "cell_type": "code",
   "execution_count": 63,
   "metadata": {},
   "outputs": [
    {
     "data": {
      "text/html": [
       "<div>\n",
       "<style scoped>\n",
       "    .dataframe tbody tr th:only-of-type {\n",
       "        vertical-align: middle;\n",
       "    }\n",
       "\n",
       "    .dataframe tbody tr th {\n",
       "        vertical-align: top;\n",
       "    }\n",
       "\n",
       "    .dataframe thead th {\n",
       "        text-align: right;\n",
       "    }\n",
       "</style>\n",
       "<table border=\"1\" class=\"dataframe\">\n",
       "  <thead>\n",
       "    <tr style=\"text-align: right;\">\n",
       "      <th></th>\n",
       "      <th>Localidad</th>\n",
       "    </tr>\n",
       "  </thead>\n",
       "  <tbody>\n",
       "    <tr>\n",
       "      <th>count</th>\n",
       "      <td>721</td>\n",
       "    </tr>\n",
       "    <tr>\n",
       "      <th>unique</th>\n",
       "      <td>55</td>\n",
       "    </tr>\n",
       "    <tr>\n",
       "      <th>top</th>\n",
       "      <td>Rafaela</td>\n",
       "    </tr>\n",
       "    <tr>\n",
       "      <th>freq</th>\n",
       "      <td>532</td>\n",
       "    </tr>\n",
       "  </tbody>\n",
       "</table>\n",
       "</div>"
      ],
      "text/plain": [
       "       Localidad\n",
       "count        721\n",
       "unique        55\n",
       "top      Rafaela\n",
       "freq         532"
      ]
     },
     "execution_count": 63,
     "metadata": {},
     "output_type": "execute_result"
    }
   ],
   "source": [
    "# Siguiente paso, ver distribucion por localidades. \n",
    "\n",
    "localidades = pd.DataFrame(pacientes_processed['Localidad'])\n",
    "localidades.describe()"
   ]
  },
  {
   "cell_type": "code",
   "execution_count": 64,
   "metadata": {},
   "outputs": [
    {
     "name": "stdout",
     "output_type": "stream",
     "text": [
      "<class 'pandas.core.frame.DataFrame'>\n",
      "Int64Index: 905 entries, 1 to 909\n",
      "Data columns (total 1 columns):\n",
      " #   Column     Non-Null Count  Dtype \n",
      "---  ------     --------------  ----- \n",
      " 0   Localidad  721 non-null    object\n",
      "dtypes: object(1)\n",
      "memory usage: 14.1+ KB\n"
     ]
    }
   ],
   "source": [
    "localidades.info()"
   ]
  },
  {
   "cell_type": "code",
   "execution_count": 65,
   "metadata": {},
   "outputs": [
    {
     "data": {
      "text/html": [
       "<div>\n",
       "<style scoped>\n",
       "    .dataframe tbody tr th:only-of-type {\n",
       "        vertical-align: middle;\n",
       "    }\n",
       "\n",
       "    .dataframe tbody tr th {\n",
       "        vertical-align: top;\n",
       "    }\n",
       "\n",
       "    .dataframe thead th {\n",
       "        text-align: right;\n",
       "    }\n",
       "</style>\n",
       "<table border=\"1\" class=\"dataframe\">\n",
       "  <thead>\n",
       "    <tr style=\"text-align: right;\">\n",
       "      <th></th>\n",
       "      <th>Localidad</th>\n",
       "    </tr>\n",
       "  </thead>\n",
       "  <tbody>\n",
       "    <tr>\n",
       "      <th>1</th>\n",
       "      <td>Rafaela</td>\n",
       "    </tr>\n",
       "    <tr>\n",
       "      <th>2</th>\n",
       "      <td>Rafaela</td>\n",
       "    </tr>\n",
       "    <tr>\n",
       "      <th>3</th>\n",
       "      <td>Ataliva</td>\n",
       "    </tr>\n",
       "    <tr>\n",
       "      <th>4</th>\n",
       "      <td>Rafaela</td>\n",
       "    </tr>\n",
       "    <tr>\n",
       "      <th>5</th>\n",
       "      <td>Rafaela</td>\n",
       "    </tr>\n",
       "    <tr>\n",
       "      <th>...</th>\n",
       "      <td>...</td>\n",
       "    </tr>\n",
       "    <tr>\n",
       "      <th>895</th>\n",
       "      <td>Rafaela</td>\n",
       "    </tr>\n",
       "    <tr>\n",
       "      <th>897</th>\n",
       "      <td>Susana</td>\n",
       "    </tr>\n",
       "    <tr>\n",
       "      <th>898</th>\n",
       "      <td>San Vicente</td>\n",
       "    </tr>\n",
       "    <tr>\n",
       "      <th>901</th>\n",
       "      <td>Rafaela</td>\n",
       "    </tr>\n",
       "    <tr>\n",
       "      <th>902</th>\n",
       "      <td>Rafaela</td>\n",
       "    </tr>\n",
       "  </tbody>\n",
       "</table>\n",
       "<p>721 rows × 1 columns</p>\n",
       "</div>"
      ],
      "text/plain": [
       "       Localidad\n",
       "1        Rafaela\n",
       "2        Rafaela\n",
       "3        Ataliva\n",
       "4        Rafaela\n",
       "5        Rafaela\n",
       "..           ...\n",
       "895      Rafaela\n",
       "897       Susana\n",
       "898  San Vicente\n",
       "901      Rafaela\n",
       "902      Rafaela\n",
       "\n",
       "[721 rows x 1 columns]"
      ]
     },
     "execution_count": 65,
     "metadata": {},
     "output_type": "execute_result"
    }
   ],
   "source": [
    "localidades = localidades.dropna()\n",
    "localidades"
   ]
  },
  {
   "cell_type": "code",
   "execution_count": 66,
   "metadata": {},
   "outputs": [
    {
     "data": {
      "text/plain": [
       "Localidad        \n",
       "Rafaela              532\n",
       "Sunchales             43\n",
       "rafaela               18\n",
       "Susana                18\n",
       "Bella Italia          10\n",
       "Sa Pereira             8\n",
       "Pilar                  8\n",
       "Santa Fe               6\n",
       "Ceres                  5\n",
       "Esperanza              5\n",
       "Lehmann                4\n",
       "San Guillermo          4\n",
       "San Vicente            4\n",
       "Ramona                 4\n",
       "RAFAELA                3\n",
       "Angelica               3\n",
       "San Cristobal          3\n",
       "Tostado                2\n",
       "Suardi                 2\n",
       "Arrufó                 2\n",
       "Ataliva                2\n",
       "Moises Ville           2\n",
       "San Vicente            1\n",
       "San Francisco          1\n",
       "Vila                   1\n",
       "San Justo              1\n",
       "San Francisco          1\n",
       "San vicente            1\n",
       "Venado Tuerto          1\n",
       "sa pereira             1\n",
       "Sarmiento              1\n",
       "Sastre                 1\n",
       "Villa Trinidad         1\n",
       "san Cristobal          1\n",
       "Albacete               1\n",
       "San Carlos Centro      1\n",
       "Sa Pereira             1\n",
       "Carlos Pelegrini       1\n",
       "Colonia Aldao          1\n",
       "Egusquiza              1\n",
       "Freyre                 1\n",
       "Humberto               1\n",
       "Humberto 1°            1\n",
       "Humboldt               1\n",
       "Maria Juana            1\n",
       "Marini                 1\n",
       "Morteros               1\n",
       "Plaza Clucellas        1\n",
       "Posadas                1\n",
       "Pte. Roca              1\n",
       "Rafaela                1\n",
       "Ambrosetti             1\n",
       "Reconquista            1\n",
       "Roca                   1\n",
       "san vicente            1\n",
       "dtype: int64"
      ]
     },
     "execution_count": 66,
     "metadata": {},
     "output_type": "execute_result"
    }
   ],
   "source": [
    "localidades.value_counts()"
   ]
  },
  {
   "cell_type": "code",
   "execution_count": 67,
   "metadata": {},
   "outputs": [],
   "source": [
    "# Me doy cuenta que los str estan escritos diferentes. Mayusculas, minusculas, etc\n",
    "\n",
    "localidades['Localidad'] = localidades['Localidad'].apply(lambda x: x.lower() if isinstance(x, str) else x)\n",
    "localidades['Localidad'] = localidades['Localidad'].apply(lambda x: x.title() if isinstance(x, str) else x)\n",
    "\n",
    "# Elijo las 10 localidades mas frecuentes\n",
    "\n",
    "localidades10 = localidades.value_counts().head(10)"
   ]
  },
  {
   "cell_type": "code",
   "execution_count": 68,
   "metadata": {},
   "outputs": [],
   "source": [
    "localidades10 = pd.DataFrame(localidades10)"
   ]
  },
  {
   "cell_type": "code",
   "execution_count": 69,
   "metadata": {},
   "outputs": [
    {
     "data": {
      "text/html": [
       "<div>\n",
       "<style scoped>\n",
       "    .dataframe tbody tr th:only-of-type {\n",
       "        vertical-align: middle;\n",
       "    }\n",
       "\n",
       "    .dataframe tbody tr th {\n",
       "        vertical-align: top;\n",
       "    }\n",
       "\n",
       "    .dataframe thead th {\n",
       "        text-align: right;\n",
       "    }\n",
       "</style>\n",
       "<table border=\"1\" class=\"dataframe\">\n",
       "  <thead>\n",
       "    <tr style=\"text-align: right;\">\n",
       "      <th></th>\n",
       "      <th>0</th>\n",
       "    </tr>\n",
       "    <tr>\n",
       "      <th>Localidad</th>\n",
       "      <th></th>\n",
       "    </tr>\n",
       "  </thead>\n",
       "  <tbody>\n",
       "    <tr>\n",
       "      <th>Rafaela</th>\n",
       "      <td>553</td>\n",
       "    </tr>\n",
       "    <tr>\n",
       "      <th>Sunchales</th>\n",
       "      <td>43</td>\n",
       "    </tr>\n",
       "    <tr>\n",
       "      <th>Susana</th>\n",
       "      <td>18</td>\n",
       "    </tr>\n",
       "    <tr>\n",
       "      <th>Bella Italia</th>\n",
       "      <td>10</td>\n",
       "    </tr>\n",
       "    <tr>\n",
       "      <th>Sa Pereira</th>\n",
       "      <td>9</td>\n",
       "    </tr>\n",
       "    <tr>\n",
       "      <th>Pilar</th>\n",
       "      <td>8</td>\n",
       "    </tr>\n",
       "    <tr>\n",
       "      <th>Santa Fe</th>\n",
       "      <td>6</td>\n",
       "    </tr>\n",
       "    <tr>\n",
       "      <th>Ceres</th>\n",
       "      <td>5</td>\n",
       "    </tr>\n",
       "    <tr>\n",
       "      <th>Esperanza</th>\n",
       "      <td>5</td>\n",
       "    </tr>\n",
       "    <tr>\n",
       "      <th>San Vicente</th>\n",
       "      <td>5</td>\n",
       "    </tr>\n",
       "  </tbody>\n",
       "</table>\n",
       "</div>"
      ],
      "text/plain": [
       "                0\n",
       "Localidad        \n",
       "Rafaela       553\n",
       "Sunchales      43\n",
       "Susana         18\n",
       "Bella Italia   10\n",
       "Sa Pereira      9\n",
       "Pilar           8\n",
       "Santa Fe        6\n",
       "Ceres           5\n",
       "Esperanza       5\n",
       "San Vicente     5"
      ]
     },
     "execution_count": 69,
     "metadata": {},
     "output_type": "execute_result"
    }
   ],
   "source": [
    "localidades10"
   ]
  },
  {
   "cell_type": "code",
   "execution_count": 70,
   "metadata": {},
   "outputs": [
    {
     "data": {
      "text/plain": [
       "pandas.core.frame.DataFrame"
      ]
     },
     "execution_count": 70,
     "metadata": {},
     "output_type": "execute_result"
    }
   ],
   "source": [
    "localidades10_1 = localidades10.reset_index()\n",
    "type(localidades10_1)"
   ]
  },
  {
   "cell_type": "code",
   "execution_count": 71,
   "metadata": {},
   "outputs": [
    {
     "data": {
      "text/html": [
       "<div>\n",
       "<style scoped>\n",
       "    .dataframe tbody tr th:only-of-type {\n",
       "        vertical-align: middle;\n",
       "    }\n",
       "\n",
       "    .dataframe tbody tr th {\n",
       "        vertical-align: top;\n",
       "    }\n",
       "\n",
       "    .dataframe thead th {\n",
       "        text-align: right;\n",
       "    }\n",
       "</style>\n",
       "<table border=\"1\" class=\"dataframe\">\n",
       "  <thead>\n",
       "    <tr style=\"text-align: right;\">\n",
       "      <th></th>\n",
       "      <th>Localidad</th>\n",
       "      <th>0</th>\n",
       "    </tr>\n",
       "  </thead>\n",
       "  <tbody>\n",
       "    <tr>\n",
       "      <th>0</th>\n",
       "      <td>Rafaela</td>\n",
       "      <td>553</td>\n",
       "    </tr>\n",
       "    <tr>\n",
       "      <th>1</th>\n",
       "      <td>Sunchales</td>\n",
       "      <td>43</td>\n",
       "    </tr>\n",
       "    <tr>\n",
       "      <th>2</th>\n",
       "      <td>Susana</td>\n",
       "      <td>18</td>\n",
       "    </tr>\n",
       "    <tr>\n",
       "      <th>3</th>\n",
       "      <td>Bella Italia</td>\n",
       "      <td>10</td>\n",
       "    </tr>\n",
       "    <tr>\n",
       "      <th>4</th>\n",
       "      <td>Sa Pereira</td>\n",
       "      <td>9</td>\n",
       "    </tr>\n",
       "    <tr>\n",
       "      <th>5</th>\n",
       "      <td>Pilar</td>\n",
       "      <td>8</td>\n",
       "    </tr>\n",
       "    <tr>\n",
       "      <th>6</th>\n",
       "      <td>Santa Fe</td>\n",
       "      <td>6</td>\n",
       "    </tr>\n",
       "    <tr>\n",
       "      <th>7</th>\n",
       "      <td>Ceres</td>\n",
       "      <td>5</td>\n",
       "    </tr>\n",
       "    <tr>\n",
       "      <th>8</th>\n",
       "      <td>Esperanza</td>\n",
       "      <td>5</td>\n",
       "    </tr>\n",
       "    <tr>\n",
       "      <th>9</th>\n",
       "      <td>San Vicente</td>\n",
       "      <td>5</td>\n",
       "    </tr>\n",
       "  </tbody>\n",
       "</table>\n",
       "</div>"
      ],
      "text/plain": [
       "      Localidad    0\n",
       "0       Rafaela  553\n",
       "1     Sunchales   43\n",
       "2        Susana   18\n",
       "3  Bella Italia   10\n",
       "4    Sa Pereira    9\n",
       "5         Pilar    8\n",
       "6      Santa Fe    6\n",
       "7         Ceres    5\n",
       "8     Esperanza    5\n",
       "9   San Vicente    5"
      ]
     },
     "execution_count": 71,
     "metadata": {},
     "output_type": "execute_result"
    }
   ],
   "source": [
    "localidades10_1.head(11)"
   ]
  },
  {
   "cell_type": "code",
   "execution_count": 72,
   "metadata": {},
   "outputs": [],
   "source": [
    "localidades10_1 = localidades10_1.rename(columns={0:'Frecuencia'})"
   ]
  },
  {
   "cell_type": "code",
   "execution_count": 73,
   "metadata": {},
   "outputs": [
    {
     "data": {
      "text/plain": [
       "Index(['Localidad', 'Frecuencia'], dtype='object')"
      ]
     },
     "execution_count": 73,
     "metadata": {},
     "output_type": "execute_result"
    }
   ],
   "source": [
    "localidades10_1.columns"
   ]
  },
  {
   "cell_type": "code",
   "execution_count": 74,
   "metadata": {},
   "outputs": [
    {
     "data": {
      "image/png": "[encoded data removed]",
      "text/plain": [
       "<Figure size 640x480 with 1 Axes>"
      ]
     },
     "metadata": {},
     "output_type": "display_data"
    }
   ],
   "source": [
    "colores = ['red', '#001970', '#001970', '#001970', '#001970', '#001970', '#001970', '#001970', '#001970', '#001970']\n",
    "plt.barh(localidades10_1['Localidad'], localidades10_1['Frecuencia'], color=colores);\n",
    "plt.xlabel('Cantidad')\n",
    "plt.ylabel('Ciudades')\n",
    "plt.title('Ciudad de origen de las pacientes')\n",
    "plt.savefig('Distribucion por localidad de origen.png')"
   ]
  },
  {
   "cell_type": "code",
   "execution_count": 75,
   "metadata": {},
   "outputs": [
    {
     "data": {
      "text/html": [
       "<div>\n",
       "<style scoped>\n",
       "    .dataframe tbody tr th:only-of-type {\n",
       "        vertical-align: middle;\n",
       "    }\n",
       "\n",
       "    .dataframe tbody tr th {\n",
       "        vertical-align: top;\n",
       "    }\n",
       "\n",
       "    .dataframe thead th {\n",
       "        text-align: right;\n",
       "    }\n",
       "</style>\n",
       "<table border=\"1\" class=\"dataframe\">\n",
       "  <thead>\n",
       "    <tr style=\"text-align: right;\">\n",
       "      <th></th>\n",
       "      <th>Localidad</th>\n",
       "      <th>Frecuencia</th>\n",
       "      <th>Porcentaje</th>\n",
       "    </tr>\n",
       "  </thead>\n",
       "  <tbody>\n",
       "    <tr>\n",
       "      <th>0</th>\n",
       "      <td>Rafaela</td>\n",
       "      <td>553</td>\n",
       "      <td>83.534743</td>\n",
       "    </tr>\n",
       "    <tr>\n",
       "      <th>1</th>\n",
       "      <td>Sunchales</td>\n",
       "      <td>43</td>\n",
       "      <td>6.495468</td>\n",
       "    </tr>\n",
       "    <tr>\n",
       "      <th>2</th>\n",
       "      <td>Susana</td>\n",
       "      <td>18</td>\n",
       "      <td>2.719033</td>\n",
       "    </tr>\n",
       "    <tr>\n",
       "      <th>3</th>\n",
       "      <td>Bella Italia</td>\n",
       "      <td>10</td>\n",
       "      <td>1.510574</td>\n",
       "    </tr>\n",
       "    <tr>\n",
       "      <th>4</th>\n",
       "      <td>Sa Pereira</td>\n",
       "      <td>9</td>\n",
       "      <td>1.359517</td>\n",
       "    </tr>\n",
       "    <tr>\n",
       "      <th>5</th>\n",
       "      <td>Pilar</td>\n",
       "      <td>8</td>\n",
       "      <td>1.208459</td>\n",
       "    </tr>\n",
       "    <tr>\n",
       "      <th>6</th>\n",
       "      <td>Santa Fe</td>\n",
       "      <td>6</td>\n",
       "      <td>0.906344</td>\n",
       "    </tr>\n",
       "    <tr>\n",
       "      <th>7</th>\n",
       "      <td>Ceres</td>\n",
       "      <td>5</td>\n",
       "      <td>0.755287</td>\n",
       "    </tr>\n",
       "    <tr>\n",
       "      <th>8</th>\n",
       "      <td>Esperanza</td>\n",
       "      <td>5</td>\n",
       "      <td>0.755287</td>\n",
       "    </tr>\n",
       "    <tr>\n",
       "      <th>9</th>\n",
       "      <td>San Vicente</td>\n",
       "      <td>5</td>\n",
       "      <td>0.755287</td>\n",
       "    </tr>\n",
       "  </tbody>\n",
       "</table>\n",
       "</div>"
      ],
      "text/plain": [
       "      Localidad  Frecuencia  Porcentaje\n",
       "0       Rafaela         553   83.534743\n",
       "1     Sunchales          43    6.495468\n",
       "2        Susana          18    2.719033\n",
       "3  Bella Italia          10    1.510574\n",
       "4    Sa Pereira           9    1.359517\n",
       "5         Pilar           8    1.208459\n",
       "6      Santa Fe           6    0.906344\n",
       "7         Ceres           5    0.755287\n",
       "8     Esperanza           5    0.755287\n",
       "9   San Vicente           5    0.755287"
      ]
     },
     "execution_count": 75,
     "metadata": {},
     "output_type": "execute_result"
    }
   ],
   "source": [
    "localidades10_1['Porcentaje'] = (localidades10_1['Frecuencia'] / localidades10_1['Frecuencia'].sum()) * 100\n",
    "localidades10_1"
   ]
  },
  {
   "attachments": {},
   "cell_type": "markdown",
   "metadata": {},
   "source": [
    "**¿Cual es la distrubicion de cada aseguradora?**"
   ]
  },
  {
   "cell_type": "code",
   "execution_count": 76,
   "metadata": {},
   "outputs": [],
   "source": [
    "# Vamos con las aseguradoras. \n",
    "\n",
    "seguros = pacientes_processed[['Aseguradora']]"
   ]
  },
  {
   "cell_type": "code",
   "execution_count": 77,
   "metadata": {},
   "outputs": [
    {
     "name": "stdout",
     "output_type": "stream",
     "text": [
      "<class 'pandas.core.frame.DataFrame'>\n",
      "Int64Index: 905 entries, 1 to 909\n",
      "Data columns (total 1 columns):\n",
      " #   Column       Non-Null Count  Dtype \n",
      "---  ------       --------------  ----- \n",
      " 0   Aseguradora  846 non-null    object\n",
      "dtypes: object(1)\n",
      "memory usage: 14.1+ KB\n"
     ]
    }
   ],
   "source": [
    "seguros.info()"
   ]
  },
  {
   "cell_type": "code",
   "execution_count": 78,
   "metadata": {},
   "outputs": [],
   "source": [
    "seguros1 = seguros.dropna()"
   ]
  },
  {
   "cell_type": "code",
   "execution_count": 79,
   "metadata": {},
   "outputs": [
    {
     "name": "stdout",
     "output_type": "stream",
     "text": [
      "<class 'pandas.core.frame.DataFrame'>\n",
      "Int64Index: 846 entries, 1 to 909\n",
      "Data columns (total 1 columns):\n",
      " #   Column       Non-Null Count  Dtype \n",
      "---  ------       --------------  ----- \n",
      " 0   Aseguradora  846 non-null    object\n",
      "dtypes: object(1)\n",
      "memory usage: 13.2+ KB\n"
     ]
    }
   ],
   "source": [
    "seguros1.info()"
   ]
  },
  {
   "cell_type": "code",
   "execution_count": 80,
   "metadata": {},
   "outputs": [],
   "source": [
    "# Como la mayoria estan en mayusculas, homogeinizo los datos en mayusculas\n",
    "\n",
    "seguros2 = seguros1['Aseguradora'].str.upper()"
   ]
  },
  {
   "cell_type": "code",
   "execution_count": 81,
   "metadata": {},
   "outputs": [
    {
     "data": {
      "text/plain": [
       "pandas.core.series.Series"
      ]
     },
     "execution_count": 81,
     "metadata": {},
     "output_type": "execute_result"
    }
   ],
   "source": [
    "type(seguros2)  # esto me devuelve una Series"
   ]
  },
  {
   "cell_type": "code",
   "execution_count": 82,
   "metadata": {},
   "outputs": [
    {
     "data": {
      "text/plain": [
       "array(['OSECAC', 'CENTRO ASISTENCIAL', 'SANCOR', 'AMUR', 'OSPAC', 'OSPIL',\n",
       "       'OSDE ', 'IAPOS', 'PARTICULAR', 'AVALIAN', 'OSPAT', 'PAMI',\n",
       "       'OSPECON', 'SWISS MEDICAL', 'FUTBOLISTAS A. AGREMIADOS',\n",
       "       'CAJA FORENSE', 'OSDE', 'OSPERSAAMS', 'FEDERADA SALUD',\n",
       "       'ACA SALUD', 'PREVENCION SALUD', 'MEDIFE', 'PREVENCION SALUD A5',\n",
       "       'GALENO', 'OPDEA', 'OSPRERA', 'CAJA DE INGENIEROS',\n",
       "       'JERARQUICOS SALUD', 'CIENCIAS ECONOMICAS', 'SANTARIO SANTA FE ',\n",
       "       'OMINT', 'OSPEDYC', 'OSPIM', 'LUZ Y FUERZA', 'ARTE DE CURAR',\n",
       "       'OSSEG', 'SUTIAGA', 'OSECAC\\n', 'OSPIP', 'OSUTGRA', 'OSTCARA',\n",
       "       'OSPSA', 'OSUTHGRA', 'UNL', 'DASUTEN'], dtype=object)"
      ]
     },
     "execution_count": 82,
     "metadata": {},
     "output_type": "execute_result"
    }
   ],
   "source": [
    "seguros2.unique()"
   ]
  },
  {
   "cell_type": "code",
   "execution_count": 83,
   "metadata": {},
   "outputs": [
    {
     "data": {
      "text/plain": [
       "IAPOS                        152\n",
       "PREVENCION SALUD             115\n",
       "SANCOR                       102\n",
       "OSDE                          71\n",
       "CENTRO ASISTENCIAL            67\n",
       "PARTICULAR                    64\n",
       "AMUR                          62\n",
       "SWISS MEDICAL                 33\n",
       "OSPAC                         19\n",
       "MEDIFE                        13\n",
       "OSPRERA                       12\n",
       "JERARQUICOS SALUD             12\n",
       "OSPAT                         11\n",
       "OSPIL                         11\n",
       "CAJA FORENSE                  10\n",
       "FEDERADA SALUD                10\n",
       "OSPECON                        9\n",
       "AVALIAN                        9\n",
       "OPDEA                          9\n",
       "CAJA DE INGENIEROS             5\n",
       "OSPEDYC                        5\n",
       "OSECAC                         4\n",
       "SUTIAGA                        4\n",
       "FUTBOLISTAS A. AGREMIADOS      4\n",
       "PAMI                           4\n",
       "GALENO                         3\n",
       "OSSEG                          3\n",
       "CIENCIAS ECONOMICAS            3\n",
       "OSUTHGRA                       3\n",
       "OSPSA                          2\n",
       "OSTCARA                        1\n",
       "OSUTGRA                        1\n",
       "UNL                            1\n",
       "OSPIP                          1\n",
       "OSECAC\\n                       1\n",
       "PREVENCION SALUD A5            1\n",
       "ARTE DE CURAR                  1\n",
       "LUZ Y FUERZA                   1\n",
       "OSPIM                          1\n",
       "OMINT                          1\n",
       "SANTARIO SANTA FE              1\n",
       "ACA SALUD                      1\n",
       "OSPERSAAMS                     1\n",
       "OSDE                           1\n",
       "DASUTEN                        1\n",
       "Name: Aseguradora, dtype: int64"
      ]
     },
     "execution_count": 83,
     "metadata": {},
     "output_type": "execute_result"
    }
   ],
   "source": [
    "seguros2.value_counts()"
   ]
  },
  {
   "cell_type": "code",
   "execution_count": 84,
   "metadata": {},
   "outputs": [
    {
     "data": {
      "text/plain": [
       "count       846\n",
       "unique       45\n",
       "top       IAPOS\n",
       "freq        152\n",
       "Name: Aseguradora, dtype: object"
      ]
     },
     "execution_count": 84,
     "metadata": {},
     "output_type": "execute_result"
    }
   ],
   "source": [
    "seguros2.describe()"
   ]
  },
  {
   "cell_type": "code",
   "execution_count": 85,
   "metadata": {},
   "outputs": [
    {
     "data": {
      "text/plain": [
       "0"
      ]
     },
     "execution_count": 85,
     "metadata": {},
     "output_type": "execute_result"
    }
   ],
   "source": [
    "seguros2.isna().sum()"
   ]
  },
  {
   "cell_type": "code",
   "execution_count": 86,
   "metadata": {},
   "outputs": [],
   "source": [
    "# veo algunos datos mal tipeados, tengo que corregirlos. \n",
    "\n",
    "seguros3 = seguros2.replace('OSECAC\\n', 'OSECAC')"
   ]
  },
  {
   "cell_type": "code",
   "execution_count": 87,
   "metadata": {},
   "outputs": [],
   "source": [
    "seguros4 = seguros3.replace('PREVENCION SALUD A5', 'PREVENCION SALUD')"
   ]
  },
  {
   "cell_type": "code",
   "execution_count": 88,
   "metadata": {},
   "outputs": [],
   "source": [
    "seguros5 = seguros4.str.rstrip()  # Elimino los espacios al final de la cadena"
   ]
  },
  {
   "cell_type": "code",
   "execution_count": 89,
   "metadata": {},
   "outputs": [
    {
     "data": {
      "text/plain": [
       "IAPOS                        152\n",
       "PREVENCION SALUD             116\n",
       "SANCOR                       102\n",
       "OSDE                          72\n",
       "CENTRO ASISTENCIAL            67\n",
       "PARTICULAR                    64\n",
       "AMUR                          62\n",
       "SWISS MEDICAL                 33\n",
       "OSPAC                         19\n",
       "MEDIFE                        13\n",
       "JERARQUICOS SALUD             12\n",
       "OSPRERA                       12\n",
       "OSPIL                         11\n",
       "OSPAT                         11\n",
       "CAJA FORENSE                  10\n",
       "FEDERADA SALUD                10\n",
       "AVALIAN                        9\n",
       "OSPECON                        9\n",
       "OPDEA                          9\n",
       "CAJA DE INGENIEROS             5\n",
       "OSECAC                         5\n",
       "OSPEDYC                        5\n",
       "SUTIAGA                        4\n",
       "FUTBOLISTAS A. AGREMIADOS      4\n",
       "PAMI                           4\n",
       "OSUTHGRA                       3\n",
       "OSSEG                          3\n",
       "GALENO                         3\n",
       "CIENCIAS ECONOMICAS            3\n",
       "OSPSA                          2\n",
       "OMINT                          1\n",
       "SANTARIO SANTA FE              1\n",
       "OSPIM                          1\n",
       "LUZ Y FUERZA                   1\n",
       "ARTE DE CURAR                  1\n",
       "ACA SALUD                      1\n",
       "OSPIP                          1\n",
       "OSUTGRA                        1\n",
       "OSTCARA                        1\n",
       "OSPERSAAMS                     1\n",
       "UNL                            1\n",
       "DASUTEN                        1\n",
       "Name: Aseguradora, dtype: int64"
      ]
     },
     "execution_count": 89,
     "metadata": {},
     "output_type": "execute_result"
    }
   ],
   "source": [
    "seguros5.value_counts()"
   ]
  },
  {
   "cell_type": "code",
   "execution_count": 90,
   "metadata": {},
   "outputs": [],
   "source": [
    "# Muchas categorias tienen n bajo, y no me sirven para graficar. Podria eliminar los indices que tengan menos de 5 repeticiones, o hacer un top 20.\n",
    "# Entonces me conviene manejarme con una serie de frecuencias, adonde la aseguradora sea el index.\n",
    "\n",
    "seguros6 = seguros5.value_counts()"
   ]
  },
  {
   "cell_type": "code",
   "execution_count": 91,
   "metadata": {},
   "outputs": [
    {
     "data": {
      "text/plain": [
       "count     42.000000\n",
       "mean      20.142857\n",
       "std       35.027217\n",
       "min        1.000000\n",
       "25%        1.000000\n",
       "50%        5.000000\n",
       "75%       12.000000\n",
       "max      152.000000\n",
       "Name: Aseguradora, dtype: float64"
      ]
     },
     "execution_count": 91,
     "metadata": {},
     "output_type": "execute_result"
    }
   ],
   "source": [
    "seguros6.describe()"
   ]
  },
  {
   "cell_type": "code",
   "execution_count": 92,
   "metadata": {},
   "outputs": [],
   "source": [
    "seguros_top20 = seguros6.nlargest(20).index"
   ]
  },
  {
   "cell_type": "code",
   "execution_count": 93,
   "metadata": {},
   "outputs": [
    {
     "data": {
      "text/plain": [
       "20"
      ]
     },
     "execution_count": 93,
     "metadata": {},
     "output_type": "execute_result"
    }
   ],
   "source": [
    "len(seguros_top20)"
   ]
  },
  {
   "cell_type": "code",
   "execution_count": 94,
   "metadata": {},
   "outputs": [],
   "source": [
    "mask_seguros = seguros_top20"
   ]
  },
  {
   "cell_type": "code",
   "execution_count": 95,
   "metadata": {},
   "outputs": [],
   "source": [
    "seguros_top20_data = seguros6[mask_seguros]"
   ]
  },
  {
   "cell_type": "code",
   "execution_count": 96,
   "metadata": {},
   "outputs": [],
   "source": [
    "seg_top20_data_1 = seguros_top20_data.reset_index()\n"
   ]
  },
  {
   "cell_type": "code",
   "execution_count": 97,
   "metadata": {},
   "outputs": [],
   "source": [
    "seg_top20_data_2 = seg_top20_data_1.rename(columns={'Aseguradora':'Frecuencia', 'index':'Aseguradora'})\n",
    "seg_3 = seg_top20_data_2.sort_values('Frecuencia', ascending=True)"
   ]
  },
  {
   "cell_type": "code",
   "execution_count": 98,
   "metadata": {},
   "outputs": [
    {
     "data": {
      "image/png": "[encoded data removed]",
      "text/plain": [
       "<Figure size 640x480 with 1 Axes>"
      ]
     },
     "metadata": {},
     "output_type": "display_data"
    }
   ],
   "source": [
    "\n",
    "colores = ['#001970', '#001970', '#001970', '#001970', '#001970', '#001970', '#001970', '#001970', '#001970', '#001970', '#001970', '#001970', '#001970', '#001970','#001970', '#001970', '#001970', '#001970', '#001970','red']\n",
    "plt.barh(seg_3['Aseguradora'], seg_3['Frecuencia'], color=colores);\n",
    "plt.xlabel('Cantidad')\n",
    "plt.ylabel('Aseguradoras')\n",
    "plt.title('Ranking de aseguradoras - Top 20')\n",
    "plt.savefig('Distribucion por aseguradora.png')\n",
    "plt.xticks(rotation=80, fontsize=10);"
   ]
  },
  {
   "cell_type": "code",
   "execution_count": 99,
   "metadata": {},
   "outputs": [
    {
     "data": {
      "text/html": [
       "<div>\n",
       "<style scoped>\n",
       "    .dataframe tbody tr th:only-of-type {\n",
       "        vertical-align: middle;\n",
       "    }\n",
       "\n",
       "    .dataframe tbody tr th {\n",
       "        vertical-align: top;\n",
       "    }\n",
       "\n",
       "    .dataframe thead th {\n",
       "        text-align: right;\n",
       "    }\n",
       "</style>\n",
       "<table border=\"1\" class=\"dataframe\">\n",
       "  <thead>\n",
       "    <tr style=\"text-align: right;\">\n",
       "      <th></th>\n",
       "      <th>Aseguradora</th>\n",
       "      <th>Frecuencia</th>\n",
       "      <th>Porcentaje</th>\n",
       "    </tr>\n",
       "  </thead>\n",
       "  <tbody>\n",
       "    <tr>\n",
       "      <th>19</th>\n",
       "      <td>CAJA DE INGENIEROS</td>\n",
       "      <td>5</td>\n",
       "      <td>0.626566</td>\n",
       "    </tr>\n",
       "    <tr>\n",
       "      <th>17</th>\n",
       "      <td>OSPECON</td>\n",
       "      <td>9</td>\n",
       "      <td>1.127820</td>\n",
       "    </tr>\n",
       "    <tr>\n",
       "      <th>16</th>\n",
       "      <td>AVALIAN</td>\n",
       "      <td>9</td>\n",
       "      <td>1.127820</td>\n",
       "    </tr>\n",
       "    <tr>\n",
       "      <th>18</th>\n",
       "      <td>OPDEA</td>\n",
       "      <td>9</td>\n",
       "      <td>1.127820</td>\n",
       "    </tr>\n",
       "    <tr>\n",
       "      <th>15</th>\n",
       "      <td>FEDERADA SALUD</td>\n",
       "      <td>10</td>\n",
       "      <td>1.253133</td>\n",
       "    </tr>\n",
       "    <tr>\n",
       "      <th>14</th>\n",
       "      <td>CAJA FORENSE</td>\n",
       "      <td>10</td>\n",
       "      <td>1.253133</td>\n",
       "    </tr>\n",
       "    <tr>\n",
       "      <th>13</th>\n",
       "      <td>OSPAT</td>\n",
       "      <td>11</td>\n",
       "      <td>1.378446</td>\n",
       "    </tr>\n",
       "    <tr>\n",
       "      <th>12</th>\n",
       "      <td>OSPIL</td>\n",
       "      <td>11</td>\n",
       "      <td>1.378446</td>\n",
       "    </tr>\n",
       "    <tr>\n",
       "      <th>11</th>\n",
       "      <td>OSPRERA</td>\n",
       "      <td>12</td>\n",
       "      <td>1.503759</td>\n",
       "    </tr>\n",
       "    <tr>\n",
       "      <th>10</th>\n",
       "      <td>JERARQUICOS SALUD</td>\n",
       "      <td>12</td>\n",
       "      <td>1.503759</td>\n",
       "    </tr>\n",
       "    <tr>\n",
       "      <th>9</th>\n",
       "      <td>MEDIFE</td>\n",
       "      <td>13</td>\n",
       "      <td>1.629073</td>\n",
       "    </tr>\n",
       "    <tr>\n",
       "      <th>8</th>\n",
       "      <td>OSPAC</td>\n",
       "      <td>19</td>\n",
       "      <td>2.380952</td>\n",
       "    </tr>\n",
       "    <tr>\n",
       "      <th>7</th>\n",
       "      <td>SWISS MEDICAL</td>\n",
       "      <td>33</td>\n",
       "      <td>4.135338</td>\n",
       "    </tr>\n",
       "    <tr>\n",
       "      <th>6</th>\n",
       "      <td>AMUR</td>\n",
       "      <td>62</td>\n",
       "      <td>7.769424</td>\n",
       "    </tr>\n",
       "    <tr>\n",
       "      <th>5</th>\n",
       "      <td>PARTICULAR</td>\n",
       "      <td>64</td>\n",
       "      <td>8.020050</td>\n",
       "    </tr>\n",
       "    <tr>\n",
       "      <th>4</th>\n",
       "      <td>CENTRO ASISTENCIAL</td>\n",
       "      <td>67</td>\n",
       "      <td>8.395990</td>\n",
       "    </tr>\n",
       "    <tr>\n",
       "      <th>3</th>\n",
       "      <td>OSDE</td>\n",
       "      <td>72</td>\n",
       "      <td>9.022556</td>\n",
       "    </tr>\n",
       "    <tr>\n",
       "      <th>2</th>\n",
       "      <td>SANCOR</td>\n",
       "      <td>102</td>\n",
       "      <td>12.781955</td>\n",
       "    </tr>\n",
       "    <tr>\n",
       "      <th>1</th>\n",
       "      <td>PREVENCION SALUD</td>\n",
       "      <td>116</td>\n",
       "      <td>14.536341</td>\n",
       "    </tr>\n",
       "    <tr>\n",
       "      <th>0</th>\n",
       "      <td>IAPOS</td>\n",
       "      <td>152</td>\n",
       "      <td>19.047619</td>\n",
       "    </tr>\n",
       "  </tbody>\n",
       "</table>\n",
       "</div>"
      ],
      "text/plain": [
       "           Aseguradora  Frecuencia  Porcentaje\n",
       "19  CAJA DE INGENIEROS           5    0.626566\n",
       "17             OSPECON           9    1.127820\n",
       "16             AVALIAN           9    1.127820\n",
       "18               OPDEA           9    1.127820\n",
       "15      FEDERADA SALUD          10    1.253133\n",
       "14        CAJA FORENSE          10    1.253133\n",
       "13               OSPAT          11    1.378446\n",
       "12               OSPIL          11    1.378446\n",
       "11             OSPRERA          12    1.503759\n",
       "10   JERARQUICOS SALUD          12    1.503759\n",
       "9               MEDIFE          13    1.629073\n",
       "8                OSPAC          19    2.380952\n",
       "7        SWISS MEDICAL          33    4.135338\n",
       "6                 AMUR          62    7.769424\n",
       "5           PARTICULAR          64    8.020050\n",
       "4   CENTRO ASISTENCIAL          67    8.395990\n",
       "3                 OSDE          72    9.022556\n",
       "2               SANCOR         102   12.781955\n",
       "1     PREVENCION SALUD         116   14.536341\n",
       "0                IAPOS         152   19.047619"
      ]
     },
     "execution_count": 99,
     "metadata": {},
     "output_type": "execute_result"
    }
   ],
   "source": [
    "seg_3['Porcentaje'] = (seg_3['Frecuencia'] / seg_3['Frecuencia'].sum()) * 100\n",
    "seg_3"
   ]
  },
  {
   "attachments": {},
   "cell_type": "markdown",
   "metadata": {},
   "source": [
    "**¿Cuales son las aseguradoras que reunen el 80% del volumen?**"
   ]
  },
  {
   "cell_type": "code",
   "execution_count": 100,
   "metadata": {},
   "outputs": [
    {
     "data": {
      "text/plain": [
       "dict"
      ]
     },
     "execution_count": 100,
     "metadata": {},
     "output_type": "execute_result"
    }
   ],
   "source": [
    "seguros7 = dict(seguros6)\n",
    "type(seguros7)"
   ]
  },
  {
   "cell_type": "code",
   "execution_count": 101,
   "metadata": {},
   "outputs": [
    {
     "data": {
      "text/plain": [
       "42"
      ]
     },
     "execution_count": 101,
     "metadata": {},
     "output_type": "execute_result"
    }
   ],
   "source": [
    "len(seguros6)"
   ]
  },
  {
   "cell_type": "code",
   "execution_count": 102,
   "metadata": {},
   "outputs": [
    {
     "data": {
      "text/plain": [
       "846"
      ]
     },
     "execution_count": 102,
     "metadata": {},
     "output_type": "execute_result"
    }
   ],
   "source": [
    "total_frec = seguros6.sum()\n",
    "total_frec"
   ]
  },
  {
   "cell_type": "code",
   "execution_count": 103,
   "metadata": {},
   "outputs": [
    {
     "name": "stdout",
     "output_type": "stream",
     "text": [
      "81.20567375886525\n",
      "['IAPOS', 'PREVENCION SALUD', 'SANCOR', 'OSDE', 'CENTRO ASISTENCIAL', 'PARTICULAR', 'AMUR', 'SWISS MEDICAL', 'OSPAC']\n"
     ]
    }
   ],
   "source": [
    "porcentaje_acumulado = 0\n",
    "listado_seguros_80 = []\n",
    "cien_por_cien = seguros6.sum()\n",
    "\n",
    "\n",
    "for seguro, frecuencia in seguros7.items():\n",
    "    porcentaje = (frecuencia * 100) / total_frec\n",
    "    porcentaje_acumulado += porcentaje\n",
    "    listado_seguros_80.append(seguro)\n",
    "    if porcentaje_acumulado >= 80:\n",
    "        break\n",
    "print(porcentaje_acumulado)\n",
    "print(listado_seguros_80)\n",
    "\n",
    "\n",
    "    "
   ]
  },
  {
   "cell_type": "code",
   "execution_count": 104,
   "metadata": {},
   "outputs": [],
   "source": [
    "seguros80percent = seguros_top20_data[listado_seguros_80]"
   ]
  },
  {
   "cell_type": "code",
   "execution_count": 105,
   "metadata": {},
   "outputs": [
    {
     "data": {
      "image/png": "[encoded data removed]",
      "text/plain": [
       "<Figure size 640x480 with 1 Axes>"
      ]
     },
     "metadata": {},
     "output_type": "display_data"
    }
   ],
   "source": [
    "colores = ['#001970', '#001970', '#001970', '#001970', '#001970', '#001970', '#001970', '#001970', '#001970', '#001970', '#001970','red','red', 'red','red', 'red', 'red', 'red', 'red','red']\n",
    "plt.barh(seg_3['Aseguradora'], seg_3['Frecuencia'], color=colores);\n",
    "plt.xlabel('Cantidad')\n",
    "plt.ylabel('Aseguradoras')\n",
    "plt.title('Ranking de aseguradoras - Top 20')\n",
    "plt.savefig('Distribucion por aseguradora.png')\n",
    "plt.xticks(rotation=80, fontsize=10);"
   ]
  },
  {
   "attachments": {},
   "cell_type": "markdown",
   "metadata": {},
   "source": [
    "**¿Cuantas nuevas hay por un periodo mensual/anual?**"
   ]
  },
  {
   "cell_type": "code",
   "execution_count": 106,
   "metadata": {},
   "outputs": [
    {
     "data": {
      "text/html": [
       "<div>\n",
       "<style scoped>\n",
       "    .dataframe tbody tr th:only-of-type {\n",
       "        vertical-align: middle;\n",
       "    }\n",
       "\n",
       "    .dataframe tbody tr th {\n",
       "        vertical-align: top;\n",
       "    }\n",
       "\n",
       "    .dataframe thead th {\n",
       "        text-align: right;\n",
       "    }\n",
       "</style>\n",
       "<table border=\"1\" class=\"dataframe\">\n",
       "  <thead>\n",
       "    <tr style=\"text-align: right;\">\n",
       "      <th></th>\n",
       "      <th>Apellido</th>\n",
       "      <th>DNI</th>\n",
       "      <th>Edad</th>\n",
       "      <th>fecha_creacion</th>\n",
       "      <th>Fecha Nacimiento</th>\n",
       "      <th>ID Paciente</th>\n",
       "      <th>Localidad</th>\n",
       "      <th>Nombres</th>\n",
       "      <th>Aseguradora</th>\n",
       "    </tr>\n",
       "  </thead>\n",
       "  <tbody>\n",
       "    <tr>\n",
       "      <th>1</th>\n",
       "      <td>Zurbriggen</td>\n",
       "      <td>14338475.0</td>\n",
       "      <td>61</td>\n",
       "      <td>NaT</td>\n",
       "      <td>1961-06-16</td>\n",
       "      <td>2</td>\n",
       "      <td>Rafaela</td>\n",
       "      <td>María Cristina</td>\n",
       "      <td>OSECAC</td>\n",
       "    </tr>\n",
       "    <tr>\n",
       "      <th>2</th>\n",
       "      <td>Zoratti</td>\n",
       "      <td>17008004.0</td>\n",
       "      <td>58</td>\n",
       "      <td>NaT</td>\n",
       "      <td>1964-07-24</td>\n",
       "      <td>3</td>\n",
       "      <td>Rafaela</td>\n",
       "      <td>Graciela</td>\n",
       "      <td>CENTRO ASISTENCIAL</td>\n",
       "    </tr>\n",
       "    <tr>\n",
       "      <th>3</th>\n",
       "      <td>Trossero</td>\n",
       "      <td>29215013.0</td>\n",
       "      <td>NaN</td>\n",
       "      <td>NaT</td>\n",
       "      <td>NaT</td>\n",
       "      <td>4</td>\n",
       "      <td>Ataliva</td>\n",
       "      <td>Daniela Laura</td>\n",
       "      <td>CENTRO ASISTENCIAL</td>\n",
       "    </tr>\n",
       "    <tr>\n",
       "      <th>4</th>\n",
       "      <td>Ingaramo</td>\n",
       "      <td>6480084.0</td>\n",
       "      <td>81</td>\n",
       "      <td>NaT</td>\n",
       "      <td>1941-06-13</td>\n",
       "      <td>5</td>\n",
       "      <td>Rafaela</td>\n",
       "      <td>Alcira</td>\n",
       "      <td>SANCOR</td>\n",
       "    </tr>\n",
       "    <tr>\n",
       "      <th>5</th>\n",
       "      <td>Condrac</td>\n",
       "      <td>29054123.0</td>\n",
       "      <td>40</td>\n",
       "      <td>NaT</td>\n",
       "      <td>1980-04-24</td>\n",
       "      <td>6</td>\n",
       "      <td>Rafaela</td>\n",
       "      <td>Keila</td>\n",
       "      <td>AMUR</td>\n",
       "    </tr>\n",
       "  </tbody>\n",
       "</table>\n",
       "</div>"
      ],
      "text/plain": [
       "     Apellido         DNI Edad fecha_creacion Fecha Nacimiento  ID Paciente  \\\n",
       "1  Zurbriggen  14338475.0   61            NaT       1961-06-16            2   \n",
       "2     Zoratti  17008004.0   58            NaT       1964-07-24            3   \n",
       "3    Trossero  29215013.0  NaN            NaT              NaT            4   \n",
       "4    Ingaramo   6480084.0   81            NaT       1941-06-13            5   \n",
       "5     Condrac  29054123.0   40            NaT       1980-04-24            6   \n",
       "\n",
       "  Localidad         Nombres         Aseguradora  \n",
       "1   Rafaela  María Cristina              OSECAC  \n",
       "2   Rafaela        Graciela  CENTRO ASISTENCIAL  \n",
       "3   Ataliva   Daniela Laura  CENTRO ASISTENCIAL  \n",
       "4   Rafaela          Alcira              SANCOR  \n",
       "5   Rafaela           Keila                AMUR  "
      ]
     },
     "execution_count": 106,
     "metadata": {},
     "output_type": "execute_result"
    }
   ],
   "source": [
    "pacientes_processed.head()"
   ]
  },
  {
   "cell_type": "code",
   "execution_count": 107,
   "metadata": {},
   "outputs": [
    {
     "data": {
      "text/plain": [
       "pandas.core.frame.DataFrame"
      ]
     },
     "execution_count": 107,
     "metadata": {},
     "output_type": "execute_result"
    }
   ],
   "source": [
    "# Solo tengo que trabajar con la columna \"fecha_creacion\"\n",
    "\n",
    "primer_registro = pacientes_processed[['fecha_creacion']]\n",
    "type(primer_registro)"
   ]
  },
  {
   "cell_type": "code",
   "execution_count": 108,
   "metadata": {},
   "outputs": [
    {
     "data": {
      "text/plain": [
       "Index(['fecha_creacion'], dtype='object')"
      ]
     },
     "execution_count": 108,
     "metadata": {},
     "output_type": "execute_result"
    }
   ],
   "source": [
    "primer_registro.columns"
   ]
  },
  {
   "cell_type": "code",
   "execution_count": 109,
   "metadata": {},
   "outputs": [
    {
     "name": "stdout",
     "output_type": "stream",
     "text": [
      "<class 'pandas.core.frame.DataFrame'>\n",
      "Int64Index: 905 entries, 1 to 909\n",
      "Data columns (total 1 columns):\n",
      " #   Column          Non-Null Count  Dtype         \n",
      "---  ------          --------------  -----         \n",
      " 0   fecha_creacion  723 non-null    datetime64[ns]\n",
      "dtypes: datetime64[ns](1)\n",
      "memory usage: 14.1 KB\n"
     ]
    }
   ],
   "source": [
    "primer_registro.info()"
   ]
  },
  {
   "cell_type": "code",
   "execution_count": 110,
   "metadata": {},
   "outputs": [],
   "source": [
    "primer_registro1 = primer_registro.dropna()"
   ]
  },
  {
   "cell_type": "code",
   "execution_count": 111,
   "metadata": {},
   "outputs": [
    {
     "name": "stderr",
     "output_type": "stream",
     "text": [
      "C:\\Users\\Rafael Ortega\\AppData\\Roaming\\Python\\Python37\\site-packages\\ipykernel_launcher.py:1: SettingWithCopyWarning: \n",
      "A value is trying to be set on a copy of a slice from a DataFrame.\n",
      "Try using .loc[row_indexer,col_indexer] = value instead\n",
      "\n",
      "See the caveats in the documentation: https://pandas.pydata.org/pandas-docs/stable/user_guide/indexing.html#returning-a-view-versus-a-copy\n",
      "  \"\"\"Entry point for launching an IPython kernel.\n",
      "C:\\Users\\Rafael Ortega\\AppData\\Roaming\\Python\\Python37\\site-packages\\ipykernel_launcher.py:2: SettingWithCopyWarning: \n",
      "A value is trying to be set on a copy of a slice from a DataFrame.\n",
      "Try using .loc[row_indexer,col_indexer] = value instead\n",
      "\n",
      "See the caveats in the documentation: https://pandas.pydata.org/pandas-docs/stable/user_guide/indexing.html#returning-a-view-versus-a-copy\n",
      "  \n"
     ]
    }
   ],
   "source": [
    "primer_registro1['Año'] = primer_registro1['fecha_creacion'].dt.year\n",
    "primer_registro1['Mes'] = primer_registro1['fecha_creacion'].dt.month"
   ]
  },
  {
   "cell_type": "code",
   "execution_count": 112,
   "metadata": {},
   "outputs": [
    {
     "data": {
      "text/html": [
       "<div>\n",
       "<style scoped>\n",
       "    .dataframe tbody tr th:only-of-type {\n",
       "        vertical-align: middle;\n",
       "    }\n",
       "\n",
       "    .dataframe tbody tr th {\n",
       "        vertical-align: top;\n",
       "    }\n",
       "\n",
       "    .dataframe thead th {\n",
       "        text-align: right;\n",
       "    }\n",
       "</style>\n",
       "<table border=\"1\" class=\"dataframe\">\n",
       "  <thead>\n",
       "    <tr style=\"text-align: right;\">\n",
       "      <th></th>\n",
       "      <th>fecha_creacion</th>\n",
       "      <th>Año</th>\n",
       "      <th>Mes</th>\n",
       "    </tr>\n",
       "  </thead>\n",
       "  <tbody>\n",
       "    <tr>\n",
       "      <th>185</th>\n",
       "      <td>2015-09-17</td>\n",
       "      <td>2015</td>\n",
       "      <td>9</td>\n",
       "    </tr>\n",
       "    <tr>\n",
       "      <th>186</th>\n",
       "      <td>2015-09-24</td>\n",
       "      <td>2015</td>\n",
       "      <td>9</td>\n",
       "    </tr>\n",
       "    <tr>\n",
       "      <th>187</th>\n",
       "      <td>2015-10-05</td>\n",
       "      <td>2015</td>\n",
       "      <td>10</td>\n",
       "    </tr>\n",
       "    <tr>\n",
       "      <th>188</th>\n",
       "      <td>2015-10-23</td>\n",
       "      <td>2015</td>\n",
       "      <td>10</td>\n",
       "    </tr>\n",
       "    <tr>\n",
       "      <th>189</th>\n",
       "      <td>2015-10-23</td>\n",
       "      <td>2015</td>\n",
       "      <td>10</td>\n",
       "    </tr>\n",
       "    <tr>\n",
       "      <th>...</th>\n",
       "      <td>...</td>\n",
       "      <td>...</td>\n",
       "      <td>...</td>\n",
       "    </tr>\n",
       "    <tr>\n",
       "      <th>905</th>\n",
       "      <td>2023-04-03</td>\n",
       "      <td>2023</td>\n",
       "      <td>4</td>\n",
       "    </tr>\n",
       "    <tr>\n",
       "      <th>906</th>\n",
       "      <td>2023-04-04</td>\n",
       "      <td>2023</td>\n",
       "      <td>4</td>\n",
       "    </tr>\n",
       "    <tr>\n",
       "      <th>907</th>\n",
       "      <td>2023-04-04</td>\n",
       "      <td>2023</td>\n",
       "      <td>4</td>\n",
       "    </tr>\n",
       "    <tr>\n",
       "      <th>908</th>\n",
       "      <td>2023-04-11</td>\n",
       "      <td>2023</td>\n",
       "      <td>4</td>\n",
       "    </tr>\n",
       "    <tr>\n",
       "      <th>909</th>\n",
       "      <td>2023-04-11</td>\n",
       "      <td>2023</td>\n",
       "      <td>4</td>\n",
       "    </tr>\n",
       "  </tbody>\n",
       "</table>\n",
       "<p>723 rows × 3 columns</p>\n",
       "</div>"
      ],
      "text/plain": [
       "    fecha_creacion   Año  Mes\n",
       "185     2015-09-17  2015    9\n",
       "186     2015-09-24  2015    9\n",
       "187     2015-10-05  2015   10\n",
       "188     2015-10-23  2015   10\n",
       "189     2015-10-23  2015   10\n",
       "..             ...   ...  ...\n",
       "905     2023-04-03  2023    4\n",
       "906     2023-04-04  2023    4\n",
       "907     2023-04-04  2023    4\n",
       "908     2023-04-11  2023    4\n",
       "909     2023-04-11  2023    4\n",
       "\n",
       "[723 rows x 3 columns]"
      ]
     },
     "execution_count": 112,
     "metadata": {},
     "output_type": "execute_result"
    }
   ],
   "source": [
    "primer_registro1"
   ]
  },
  {
   "cell_type": "code",
   "execution_count": 113,
   "metadata": {},
   "outputs": [],
   "source": [
    "mask1 = primer_registro1['Año'] != 2023\n",
    "primer_registro2 = primer_registro1[mask1]"
   ]
  },
  {
   "cell_type": "code",
   "execution_count": 114,
   "metadata": {},
   "outputs": [
    {
     "name": "stderr",
     "output_type": "stream",
     "text": [
      "c:\\Users\\Rafael Ortega\\AppData\\Local\\Programs\\Python\\Python37\\lib\\site-packages\\pandas\\core\\frame.py:5047: SettingWithCopyWarning: \n",
      "A value is trying to be set on a copy of a slice from a DataFrame\n",
      "\n",
      "See the caveats in the documentation: https://pandas.pydata.org/pandas-docs/stable/user_guide/indexing.html#returning-a-view-versus-a-copy\n",
      "  errors=errors,\n"
     ]
    },
    {
     "data": {
      "text/html": [
       "<div>\n",
       "<style scoped>\n",
       "    .dataframe tbody tr th:only-of-type {\n",
       "        vertical-align: middle;\n",
       "    }\n",
       "\n",
       "    .dataframe tbody tr th {\n",
       "        vertical-align: top;\n",
       "    }\n",
       "\n",
       "    .dataframe thead th {\n",
       "        text-align: right;\n",
       "    }\n",
       "</style>\n",
       "<table border=\"1\" class=\"dataframe\">\n",
       "  <thead>\n",
       "    <tr style=\"text-align: right;\">\n",
       "      <th></th>\n",
       "      <th>Cantidad pacientes nuevas</th>\n",
       "      <th>Año</th>\n",
       "      <th>Mes</th>\n",
       "    </tr>\n",
       "  </thead>\n",
       "  <tbody>\n",
       "    <tr>\n",
       "      <th>871</th>\n",
       "      <td>2022-12-19</td>\n",
       "      <td>2022</td>\n",
       "      <td>12</td>\n",
       "    </tr>\n",
       "    <tr>\n",
       "      <th>872</th>\n",
       "      <td>2022-12-19</td>\n",
       "      <td>2022</td>\n",
       "      <td>12</td>\n",
       "    </tr>\n",
       "    <tr>\n",
       "      <th>873</th>\n",
       "      <td>2022-12-20</td>\n",
       "      <td>2022</td>\n",
       "      <td>12</td>\n",
       "    </tr>\n",
       "    <tr>\n",
       "      <th>874</th>\n",
       "      <td>2022-12-20</td>\n",
       "      <td>2022</td>\n",
       "      <td>12</td>\n",
       "    </tr>\n",
       "    <tr>\n",
       "      <th>875</th>\n",
       "      <td>2022-12-26</td>\n",
       "      <td>2022</td>\n",
       "      <td>12</td>\n",
       "    </tr>\n",
       "  </tbody>\n",
       "</table>\n",
       "</div>"
      ],
      "text/plain": [
       "    Cantidad pacientes nuevas   Año  Mes\n",
       "871                2022-12-19  2022   12\n",
       "872                2022-12-19  2022   12\n",
       "873                2022-12-20  2022   12\n",
       "874                2022-12-20  2022   12\n",
       "875                2022-12-26  2022   12"
      ]
     },
     "execution_count": 114,
     "metadata": {},
     "output_type": "execute_result"
    }
   ],
   "source": [
    "primer_registro2.rename(columns={'fecha_creacion':'Cantidad pacientes nuevas'}, inplace=True)\n",
    "primer_registro2.tail()"
   ]
  },
  {
   "cell_type": "code",
   "execution_count": 115,
   "metadata": {},
   "outputs": [
    {
     "data": {
      "text/plain": [
       "<pandas.core.groupby.generic.DataFrameGroupBy object at 0x0000023D5FA67588>"
      ]
     },
     "execution_count": 115,
     "metadata": {},
     "output_type": "execute_result"
    }
   ],
   "source": [
    "by_month_year = primer_registro2.groupby(['Año','Mes'])\n",
    "by_month_year"
   ]
  },
  {
   "cell_type": "code",
   "execution_count": 116,
   "metadata": {},
   "outputs": [
    {
     "name": "stderr",
     "output_type": "stream",
     "text": [
      "c:\\Users\\Rafael Ortega\\AppData\\Local\\Programs\\Python\\Python37\\lib\\site-packages\\pandas\\core\\groupby\\groupby.py:1973: FutureWarning: Treating datetime data as categorical rather than numeric in `.describe` is deprecated and will be removed in a future version of pandas. Specify `datetime_is_numeric=True` to silence this warning and adopt the future behavior now.\n",
      "  result = self.apply(lambda x: x.describe(**kwargs))\n"
     ]
    },
    {
     "data": {
      "text/html": [
       "<div>\n",
       "<style scoped>\n",
       "    .dataframe tbody tr th:only-of-type {\n",
       "        vertical-align: middle;\n",
       "    }\n",
       "\n",
       "    .dataframe tbody tr th {\n",
       "        vertical-align: top;\n",
       "    }\n",
       "\n",
       "    .dataframe thead tr th {\n",
       "        text-align: left;\n",
       "    }\n",
       "\n",
       "    .dataframe thead tr:last-of-type th {\n",
       "        text-align: right;\n",
       "    }\n",
       "</style>\n",
       "<table border=\"1\" class=\"dataframe\">\n",
       "  <thead>\n",
       "    <tr>\n",
       "      <th></th>\n",
       "      <th></th>\n",
       "      <th colspan=\"6\" halign=\"left\">Cantidad pacientes nuevas</th>\n",
       "    </tr>\n",
       "    <tr>\n",
       "      <th></th>\n",
       "      <th></th>\n",
       "      <th>count</th>\n",
       "      <th>unique</th>\n",
       "      <th>top</th>\n",
       "      <th>freq</th>\n",
       "      <th>first</th>\n",
       "      <th>last</th>\n",
       "    </tr>\n",
       "    <tr>\n",
       "      <th>Año</th>\n",
       "      <th>Mes</th>\n",
       "      <th></th>\n",
       "      <th></th>\n",
       "      <th></th>\n",
       "      <th></th>\n",
       "      <th></th>\n",
       "      <th></th>\n",
       "    </tr>\n",
       "  </thead>\n",
       "  <tbody>\n",
       "    <tr>\n",
       "      <th rowspan=\"4\" valign=\"top\">2015</th>\n",
       "      <th>9</th>\n",
       "      <td>2</td>\n",
       "      <td>2</td>\n",
       "      <td>2015-09-17</td>\n",
       "      <td>1</td>\n",
       "      <td>2015-09-17</td>\n",
       "      <td>2015-09-24</td>\n",
       "    </tr>\n",
       "    <tr>\n",
       "      <th>10</th>\n",
       "      <td>5</td>\n",
       "      <td>3</td>\n",
       "      <td>2015-10-23</td>\n",
       "      <td>2</td>\n",
       "      <td>2015-10-05</td>\n",
       "      <td>2015-10-31</td>\n",
       "    </tr>\n",
       "    <tr>\n",
       "      <th>11</th>\n",
       "      <td>7</td>\n",
       "      <td>5</td>\n",
       "      <td>2015-11-09</td>\n",
       "      <td>2</td>\n",
       "      <td>2015-11-09</td>\n",
       "      <td>2015-11-26</td>\n",
       "    </tr>\n",
       "    <tr>\n",
       "      <th>12</th>\n",
       "      <td>8</td>\n",
       "      <td>5</td>\n",
       "      <td>2015-12-03</td>\n",
       "      <td>3</td>\n",
       "      <td>2015-12-01</td>\n",
       "      <td>2015-12-29</td>\n",
       "    </tr>\n",
       "    <tr>\n",
       "      <th>2016</th>\n",
       "      <th>1</th>\n",
       "      <td>4</td>\n",
       "      <td>4</td>\n",
       "      <td>2016-01-11</td>\n",
       "      <td>1</td>\n",
       "      <td>2016-01-11</td>\n",
       "      <td>2016-01-25</td>\n",
       "    </tr>\n",
       "    <tr>\n",
       "      <th>...</th>\n",
       "      <th>...</th>\n",
       "      <td>...</td>\n",
       "      <td>...</td>\n",
       "      <td>...</td>\n",
       "      <td>...</td>\n",
       "      <td>...</td>\n",
       "      <td>...</td>\n",
       "    </tr>\n",
       "    <tr>\n",
       "      <th rowspan=\"5\" valign=\"top\">2022</th>\n",
       "      <th>8</th>\n",
       "      <td>5</td>\n",
       "      <td>3</td>\n",
       "      <td>2022-08-24</td>\n",
       "      <td>2</td>\n",
       "      <td>2022-08-04</td>\n",
       "      <td>2022-08-31</td>\n",
       "    </tr>\n",
       "    <tr>\n",
       "      <th>9</th>\n",
       "      <td>8</td>\n",
       "      <td>6</td>\n",
       "      <td>2022-09-27</td>\n",
       "      <td>3</td>\n",
       "      <td>2022-09-07</td>\n",
       "      <td>2022-09-28</td>\n",
       "    </tr>\n",
       "    <tr>\n",
       "      <th>10</th>\n",
       "      <td>12</td>\n",
       "      <td>8</td>\n",
       "      <td>2022-10-03</td>\n",
       "      <td>2</td>\n",
       "      <td>2022-10-03</td>\n",
       "      <td>2022-10-27</td>\n",
       "    </tr>\n",
       "    <tr>\n",
       "      <th>11</th>\n",
       "      <td>7</td>\n",
       "      <td>5</td>\n",
       "      <td>2022-11-07</td>\n",
       "      <td>2</td>\n",
       "      <td>2022-11-01</td>\n",
       "      <td>2022-11-24</td>\n",
       "    </tr>\n",
       "    <tr>\n",
       "      <th>12</th>\n",
       "      <td>6</td>\n",
       "      <td>4</td>\n",
       "      <td>2022-12-19</td>\n",
       "      <td>2</td>\n",
       "      <td>2022-12-05</td>\n",
       "      <td>2022-12-26</td>\n",
       "    </tr>\n",
       "  </tbody>\n",
       "</table>\n",
       "<p>84 rows × 6 columns</p>\n",
       "</div>"
      ],
      "text/plain": [
       "         Cantidad pacientes nuevas                                    \\\n",
       "                             count unique        top freq      first   \n",
       "Año  Mes                                                               \n",
       "2015 9                           2      2 2015-09-17    1 2015-09-17   \n",
       "     10                          5      3 2015-10-23    2 2015-10-05   \n",
       "     11                          7      5 2015-11-09    2 2015-11-09   \n",
       "     12                          8      5 2015-12-03    3 2015-12-01   \n",
       "2016 1                           4      4 2016-01-11    1 2016-01-11   \n",
       "...                            ...    ...        ...  ...        ...   \n",
       "2022 8                           5      3 2022-08-24    2 2022-08-04   \n",
       "     9                           8      6 2022-09-27    3 2022-09-07   \n",
       "     10                         12      8 2022-10-03    2 2022-10-03   \n",
       "     11                          7      5 2022-11-07    2 2022-11-01   \n",
       "     12                          6      4 2022-12-19    2 2022-12-05   \n",
       "\n",
       "                     \n",
       "               last  \n",
       "Año  Mes             \n",
       "2015 9   2015-09-24  \n",
       "     10  2015-10-31  \n",
       "     11  2015-11-26  \n",
       "     12  2015-12-29  \n",
       "2016 1   2016-01-25  \n",
       "...             ...  \n",
       "2022 8   2022-08-31  \n",
       "     9   2022-09-28  \n",
       "     10  2022-10-27  \n",
       "     11  2022-11-24  \n",
       "     12  2022-12-26  \n",
       "\n",
       "[84 rows x 6 columns]"
      ]
     },
     "execution_count": 116,
     "metadata": {},
     "output_type": "execute_result"
    }
   ],
   "source": [
    "by_month_year.describe()"
   ]
  },
  {
   "cell_type": "code",
   "execution_count": 117,
   "metadata": {},
   "outputs": [
    {
     "data": {
      "text/html": [
       "<div>\n",
       "<style scoped>\n",
       "    .dataframe tbody tr th:only-of-type {\n",
       "        vertical-align: middle;\n",
       "    }\n",
       "\n",
       "    .dataframe tbody tr th {\n",
       "        vertical-align: top;\n",
       "    }\n",
       "\n",
       "    .dataframe thead th {\n",
       "        text-align: right;\n",
       "    }\n",
       "</style>\n",
       "<table border=\"1\" class=\"dataframe\">\n",
       "  <thead>\n",
       "    <tr style=\"text-align: right;\">\n",
       "      <th></th>\n",
       "      <th></th>\n",
       "      <th>Cantidad pacientes nuevas</th>\n",
       "    </tr>\n",
       "    <tr>\n",
       "      <th>Año</th>\n",
       "      <th>Mes</th>\n",
       "      <th></th>\n",
       "    </tr>\n",
       "  </thead>\n",
       "  <tbody>\n",
       "    <tr>\n",
       "      <th rowspan=\"4\" valign=\"top\">2015</th>\n",
       "      <th>9</th>\n",
       "      <td>2</td>\n",
       "    </tr>\n",
       "    <tr>\n",
       "      <th>10</th>\n",
       "      <td>5</td>\n",
       "    </tr>\n",
       "    <tr>\n",
       "      <th>11</th>\n",
       "      <td>7</td>\n",
       "    </tr>\n",
       "    <tr>\n",
       "      <th>12</th>\n",
       "      <td>8</td>\n",
       "    </tr>\n",
       "    <tr>\n",
       "      <th>2016</th>\n",
       "      <th>1</th>\n",
       "      <td>4</td>\n",
       "    </tr>\n",
       "    <tr>\n",
       "      <th>...</th>\n",
       "      <th>...</th>\n",
       "      <td>...</td>\n",
       "    </tr>\n",
       "    <tr>\n",
       "      <th rowspan=\"5\" valign=\"top\">2022</th>\n",
       "      <th>8</th>\n",
       "      <td>5</td>\n",
       "    </tr>\n",
       "    <tr>\n",
       "      <th>9</th>\n",
       "      <td>8</td>\n",
       "    </tr>\n",
       "    <tr>\n",
       "      <th>10</th>\n",
       "      <td>12</td>\n",
       "    </tr>\n",
       "    <tr>\n",
       "      <th>11</th>\n",
       "      <td>7</td>\n",
       "    </tr>\n",
       "    <tr>\n",
       "      <th>12</th>\n",
       "      <td>6</td>\n",
       "    </tr>\n",
       "  </tbody>\n",
       "</table>\n",
       "<p>84 rows × 1 columns</p>\n",
       "</div>"
      ],
      "text/plain": [
       "          Cantidad pacientes nuevas\n",
       "Año  Mes                           \n",
       "2015 9                            2\n",
       "     10                           5\n",
       "     11                           7\n",
       "     12                           8\n",
       "2016 1                            4\n",
       "...                             ...\n",
       "2022 8                            5\n",
       "     9                            8\n",
       "     10                          12\n",
       "     11                           7\n",
       "     12                           6\n",
       "\n",
       "[84 rows x 1 columns]"
      ]
     },
     "execution_count": 117,
     "metadata": {},
     "output_type": "execute_result"
    }
   ],
   "source": [
    "by_month_year.count()"
   ]
  },
  {
   "cell_type": "code",
   "execution_count": 118,
   "metadata": {},
   "outputs": [],
   "source": [
    "new_month_year = by_month_year.count()"
   ]
  },
  {
   "cell_type": "code",
   "execution_count": 119,
   "metadata": {},
   "outputs": [
    {
     "data": {
      "image/png": "[encoded data removed]",
      "text/plain": [
       "<Figure size 640x480 with 1 Axes>"
      ]
     },
     "metadata": {},
     "output_type": "display_data"
    }
   ],
   "source": [
    "sns.set_style(\"whitegrid\")\n",
    "sns.set_palette(\"colorblind\")\n",
    "\n",
    "sns.lineplot(data=new_month_year, x='Mes', y='Cantidad pacientes nuevas', hue='Año', palette='colorblind')\n",
    "plt.xlabel('Mes')\n",
    "plt.ylabel('Frecuencia')\n",
    "plt.title('Frecuencia por mes y año')\n",
    "\n",
    "plt.show()\n"
   ]
  },
  {
   "cell_type": "code",
   "execution_count": 120,
   "metadata": {},
   "outputs": [
    {
     "data": {
      "image/png": "[encoded data removed]",
      "text/plain": [
       "<Figure size 1600x800 with 8 Axes>"
      ]
     },
     "metadata": {},
     "output_type": "display_data"
    }
   ],
   "source": [
    "fig, axs = plt.subplots(2, 4, figsize=(16, 8), sharey=True)\n",
    "\n",
    "for year, ax in zip(new_month_year.index.get_level_values('Año').unique(), axs.flatten()):\n",
    "    sns.lineplot(data=new_month_year.loc[new_month_year.index.get_level_values('Año') == year], x='Mes', y='Cantidad pacientes nuevas', ax=ax)\n",
    "    ax.set_title(f'Año {year}')\n",
    "    ax.set_xlabel('Mes')\n",
    "    ax.set_ylabel('Cantidad')\n",
    "\n",
    "fig.tight_layout()\n",
    "plt.show()\n"
   ]
  },
  {
   "cell_type": "code",
   "execution_count": 121,
   "metadata": {},
   "outputs": [
    {
     "data": {
      "image/png": "[encoded data removed]",
      "text/plain": [
       "<Figure size 1200x500 with 8 Axes>"
      ]
     },
     "metadata": {},
     "output_type": "display_data"
    }
   ],
   "source": [
    "g = sns.catplot(data=new_month_year.reset_index(), x='Mes', y='Cantidad pacientes nuevas', col='Año', kind='bar', col_wrap=4, height=2.5, aspect=1.2)\n",
    "\n",
    "g.set_titles('Año {col_name}')\n",
    "plt.show()\n"
   ]
  },
  {
   "cell_type": "code",
   "execution_count": 122,
   "metadata": {},
   "outputs": [
    {
     "data": {
      "image/png": "[encoded data removed]",
      "text/plain": [
       "<Figure size 965.5x600 with 1 Axes>"
      ]
     },
     "metadata": {},
     "output_type": "display_data"
    }
   ],
   "source": [
    "sns.catplot(data=new_month_year.reset_index(), x='Año', y='Cantidad pacientes nuevas', hue='Mes', kind='bar', height=6, aspect=1.5)\n",
    "\n",
    "plt.xlabel('Año')\n",
    "plt.ylabel('Recuento de Mes')\n",
    "plt.show()\n"
   ]
  },
  {
   "cell_type": "code",
   "execution_count": 123,
   "metadata": {},
   "outputs": [
    {
     "data": {
      "text/html": [
       "<div>\n",
       "<style scoped>\n",
       "    .dataframe tbody tr th:only-of-type {\n",
       "        vertical-align: middle;\n",
       "    }\n",
       "\n",
       "    .dataframe tbody tr th {\n",
       "        vertical-align: top;\n",
       "    }\n",
       "\n",
       "    .dataframe thead th {\n",
       "        text-align: right;\n",
       "    }\n",
       "</style>\n",
       "<table border=\"1\" class=\"dataframe\">\n",
       "  <thead>\n",
       "    <tr style=\"text-align: right;\">\n",
       "      <th></th>\n",
       "      <th>Cantidad pacientes nuevas</th>\n",
       "      <th>Mes</th>\n",
       "    </tr>\n",
       "    <tr>\n",
       "      <th>Año</th>\n",
       "      <th></th>\n",
       "      <th></th>\n",
       "    </tr>\n",
       "  </thead>\n",
       "  <tbody>\n",
       "    <tr>\n",
       "      <th>2015</th>\n",
       "      <td>22</td>\n",
       "      <td>22</td>\n",
       "    </tr>\n",
       "    <tr>\n",
       "      <th>2016</th>\n",
       "      <td>71</td>\n",
       "      <td>71</td>\n",
       "    </tr>\n",
       "    <tr>\n",
       "      <th>2017</th>\n",
       "      <td>105</td>\n",
       "      <td>105</td>\n",
       "    </tr>\n",
       "    <tr>\n",
       "      <th>2018</th>\n",
       "      <td>69</td>\n",
       "      <td>69</td>\n",
       "    </tr>\n",
       "    <tr>\n",
       "      <th>2019</th>\n",
       "      <td>85</td>\n",
       "      <td>85</td>\n",
       "    </tr>\n",
       "    <tr>\n",
       "      <th>2020</th>\n",
       "      <td>111</td>\n",
       "      <td>111</td>\n",
       "    </tr>\n",
       "    <tr>\n",
       "      <th>2021</th>\n",
       "      <td>97</td>\n",
       "      <td>97</td>\n",
       "    </tr>\n",
       "    <tr>\n",
       "      <th>2022</th>\n",
       "      <td>129</td>\n",
       "      <td>129</td>\n",
       "    </tr>\n",
       "  </tbody>\n",
       "</table>\n",
       "</div>"
      ],
      "text/plain": [
       "      Cantidad pacientes nuevas  Mes\n",
       "Año                                 \n",
       "2015                         22   22\n",
       "2016                         71   71\n",
       "2017                        105  105\n",
       "2018                         69   69\n",
       "2019                         85   85\n",
       "2020                        111  111\n",
       "2021                         97   97\n",
       "2022                        129  129"
      ]
     },
     "execution_count": 123,
     "metadata": {},
     "output_type": "execute_result"
    }
   ],
   "source": [
    "by_year = primer_registro2.groupby(['Año'])\n",
    "by_year.count()"
   ]
  },
  {
   "cell_type": "code",
   "execution_count": 124,
   "metadata": {},
   "outputs": [
    {
     "data": {
      "text/html": [
       "<div>\n",
       "<style scoped>\n",
       "    .dataframe tbody tr th:only-of-type {\n",
       "        vertical-align: middle;\n",
       "    }\n",
       "\n",
       "    .dataframe tbody tr th {\n",
       "        vertical-align: top;\n",
       "    }\n",
       "\n",
       "    .dataframe thead th {\n",
       "        text-align: right;\n",
       "    }\n",
       "</style>\n",
       "<table border=\"1\" class=\"dataframe\">\n",
       "  <thead>\n",
       "    <tr style=\"text-align: right;\">\n",
       "      <th></th>\n",
       "      <th>fecha_creacion</th>\n",
       "      <th>Año</th>\n",
       "      <th>Mes</th>\n",
       "    </tr>\n",
       "  </thead>\n",
       "  <tbody>\n",
       "    <tr>\n",
       "      <th>185</th>\n",
       "      <td>2015-09-17</td>\n",
       "      <td>2015</td>\n",
       "      <td>9</td>\n",
       "    </tr>\n",
       "    <tr>\n",
       "      <th>186</th>\n",
       "      <td>2015-09-24</td>\n",
       "      <td>2015</td>\n",
       "      <td>9</td>\n",
       "    </tr>\n",
       "    <tr>\n",
       "      <th>187</th>\n",
       "      <td>2015-10-05</td>\n",
       "      <td>2015</td>\n",
       "      <td>10</td>\n",
       "    </tr>\n",
       "    <tr>\n",
       "      <th>188</th>\n",
       "      <td>2015-10-23</td>\n",
       "      <td>2015</td>\n",
       "      <td>10</td>\n",
       "    </tr>\n",
       "    <tr>\n",
       "      <th>189</th>\n",
       "      <td>2015-10-23</td>\n",
       "      <td>2015</td>\n",
       "      <td>10</td>\n",
       "    </tr>\n",
       "    <tr>\n",
       "      <th>...</th>\n",
       "      <td>...</td>\n",
       "      <td>...</td>\n",
       "      <td>...</td>\n",
       "    </tr>\n",
       "    <tr>\n",
       "      <th>905</th>\n",
       "      <td>2023-04-03</td>\n",
       "      <td>2023</td>\n",
       "      <td>4</td>\n",
       "    </tr>\n",
       "    <tr>\n",
       "      <th>906</th>\n",
       "      <td>2023-04-04</td>\n",
       "      <td>2023</td>\n",
       "      <td>4</td>\n",
       "    </tr>\n",
       "    <tr>\n",
       "      <th>907</th>\n",
       "      <td>2023-04-04</td>\n",
       "      <td>2023</td>\n",
       "      <td>4</td>\n",
       "    </tr>\n",
       "    <tr>\n",
       "      <th>908</th>\n",
       "      <td>2023-04-11</td>\n",
       "      <td>2023</td>\n",
       "      <td>4</td>\n",
       "    </tr>\n",
       "    <tr>\n",
       "      <th>909</th>\n",
       "      <td>2023-04-11</td>\n",
       "      <td>2023</td>\n",
       "      <td>4</td>\n",
       "    </tr>\n",
       "  </tbody>\n",
       "</table>\n",
       "<p>723 rows × 3 columns</p>\n",
       "</div>"
      ],
      "text/plain": [
       "    fecha_creacion   Año  Mes\n",
       "185     2015-09-17  2015    9\n",
       "186     2015-09-24  2015    9\n",
       "187     2015-10-05  2015   10\n",
       "188     2015-10-23  2015   10\n",
       "189     2015-10-23  2015   10\n",
       "..             ...   ...  ...\n",
       "905     2023-04-03  2023    4\n",
       "906     2023-04-04  2023    4\n",
       "907     2023-04-04  2023    4\n",
       "908     2023-04-11  2023    4\n",
       "909     2023-04-11  2023    4\n",
       "\n",
       "[723 rows x 3 columns]"
      ]
     },
     "execution_count": 124,
     "metadata": {},
     "output_type": "execute_result"
    }
   ],
   "source": [
    "primer_registro1"
   ]
  },
  {
   "cell_type": "code",
   "execution_count": 125,
   "metadata": {},
   "outputs": [],
   "source": [
    "groupby_year = primer_registro1.groupby('Año').count()"
   ]
  },
  {
   "cell_type": "code",
   "execution_count": 126,
   "metadata": {},
   "outputs": [],
   "source": [
    "reducido = groupby_year.loc['2016':'2022']"
   ]
  },
  {
   "cell_type": "code",
   "execution_count": 127,
   "metadata": {},
   "outputs": [
    {
     "data": {
      "text/plain": [
       "95.28571428571429"
      ]
     },
     "execution_count": 127,
     "metadata": {},
     "output_type": "execute_result"
    }
   ],
   "source": [
    "reducido['fecha_creacion'].mean()"
   ]
  },
  {
   "cell_type": "code",
   "execution_count": 128,
   "metadata": {},
   "outputs": [
    {
     "data": {
      "text/html": [
       "<div>\n",
       "<style scoped>\n",
       "    .dataframe tbody tr th:only-of-type {\n",
       "        vertical-align: middle;\n",
       "    }\n",
       "\n",
       "    .dataframe tbody tr th {\n",
       "        vertical-align: top;\n",
       "    }\n",
       "\n",
       "    .dataframe thead th {\n",
       "        text-align: right;\n",
       "    }\n",
       "</style>\n",
       "<table border=\"1\" class=\"dataframe\">\n",
       "  <thead>\n",
       "    <tr style=\"text-align: right;\">\n",
       "      <th></th>\n",
       "      <th>fecha_creacion</th>\n",
       "      <th>Mes</th>\n",
       "    </tr>\n",
       "    <tr>\n",
       "      <th>Año</th>\n",
       "      <th></th>\n",
       "      <th></th>\n",
       "    </tr>\n",
       "  </thead>\n",
       "  <tbody>\n",
       "    <tr>\n",
       "      <th>2016</th>\n",
       "      <td>71</td>\n",
       "      <td>71</td>\n",
       "    </tr>\n",
       "    <tr>\n",
       "      <th>2017</th>\n",
       "      <td>105</td>\n",
       "      <td>105</td>\n",
       "    </tr>\n",
       "    <tr>\n",
       "      <th>2018</th>\n",
       "      <td>69</td>\n",
       "      <td>69</td>\n",
       "    </tr>\n",
       "    <tr>\n",
       "      <th>2019</th>\n",
       "      <td>85</td>\n",
       "      <td>85</td>\n",
       "    </tr>\n",
       "    <tr>\n",
       "      <th>2020</th>\n",
       "      <td>111</td>\n",
       "      <td>111</td>\n",
       "    </tr>\n",
       "    <tr>\n",
       "      <th>2021</th>\n",
       "      <td>97</td>\n",
       "      <td>97</td>\n",
       "    </tr>\n",
       "    <tr>\n",
       "      <th>2022</th>\n",
       "      <td>129</td>\n",
       "      <td>129</td>\n",
       "    </tr>\n",
       "  </tbody>\n",
       "</table>\n",
       "</div>"
      ],
      "text/plain": [
       "      fecha_creacion  Mes\n",
       "Año                      \n",
       "2016              71   71\n",
       "2017             105  105\n",
       "2018              69   69\n",
       "2019              85   85\n",
       "2020             111  111\n",
       "2021              97   97\n",
       "2022             129  129"
      ]
     },
     "execution_count": 128,
     "metadata": {},
     "output_type": "execute_result"
    }
   ],
   "source": [
    "reducido"
   ]
  },
  {
   "cell_type": "code",
   "execution_count": 129,
   "metadata": {},
   "outputs": [
    {
     "data": {
      "image/png": "[encoded data removed]",
      "text/plain": [
       "<Figure size 1000x500 with 1 Axes>"
      ]
     },
     "metadata": {},
     "output_type": "display_data"
    }
   ],
   "source": [
    "plt.figure(figsize=(10,5))\n",
    "sns.lineplot(data=reducido,\n",
    "             x=\"Año\",\n",
    "             y=\"fecha_creacion\",\n",
    "             linewidth = 3,\n",
    "             color='red');\n",
    "plt.xlabel('Año')\n",
    "plt.ylabel('Pacientes nuevas')\n",
    "plt.title(\"Pacientes nuevas por año\")\n",
    "plt.show()"
   ]
  },
  {
   "cell_type": "code",
   "execution_count": 137,
   "metadata": {},
   "outputs": [
    {
     "data": {
      "text/html": [
       "<div>\n",
       "<style scoped>\n",
       "    .dataframe tbody tr th:only-of-type {\n",
       "        vertical-align: middle;\n",
       "    }\n",
       "\n",
       "    .dataframe tbody tr th {\n",
       "        vertical-align: top;\n",
       "    }\n",
       "\n",
       "    .dataframe thead th {\n",
       "        text-align: right;\n",
       "    }\n",
       "</style>\n",
       "<table border=\"1\" class=\"dataframe\">\n",
       "  <thead>\n",
       "    <tr style=\"text-align: right;\">\n",
       "      <th></th>\n",
       "      <th>Fecha Nacimiento</th>\n",
       "      <th>fecha_creacion</th>\n",
       "      <th>Edad_primera_vez</th>\n",
       "      <th>FN ginecologo</th>\n",
       "      <th>Edad ginecologo</th>\n",
       "    </tr>\n",
       "  </thead>\n",
       "  <tbody>\n",
       "    <tr>\n",
       "      <th>185</th>\n",
       "      <td>1983-01-30</td>\n",
       "      <td>2015-09-17</td>\n",
       "      <td>32</td>\n",
       "      <td>1978-08-20</td>\n",
       "      <td>0</td>\n",
       "    </tr>\n",
       "    <tr>\n",
       "      <th>186</th>\n",
       "      <td>1985-05-15</td>\n",
       "      <td>2015-09-24</td>\n",
       "      <td>30</td>\n",
       "      <td>1978-08-20</td>\n",
       "      <td>0</td>\n",
       "    </tr>\n",
       "    <tr>\n",
       "      <th>187</th>\n",
       "      <td>1982-02-02</td>\n",
       "      <td>2015-10-05</td>\n",
       "      <td>33</td>\n",
       "      <td>1978-08-20</td>\n",
       "      <td>0</td>\n",
       "    </tr>\n",
       "    <tr>\n",
       "      <th>188</th>\n",
       "      <td>1981-05-20</td>\n",
       "      <td>2015-10-23</td>\n",
       "      <td>34</td>\n",
       "      <td>1978-08-20</td>\n",
       "      <td>0</td>\n",
       "    </tr>\n",
       "    <tr>\n",
       "      <th>189</th>\n",
       "      <td>1985-04-12</td>\n",
       "      <td>2015-10-23</td>\n",
       "      <td>30</td>\n",
       "      <td>1978-08-20</td>\n",
       "      <td>0</td>\n",
       "    </tr>\n",
       "  </tbody>\n",
       "</table>\n",
       "</div>"
      ],
      "text/plain": [
       "    Fecha Nacimiento fecha_creacion  Edad_primera_vez FN ginecologo  \\\n",
       "185       1983-01-30     2015-09-17                32    1978-08-20   \n",
       "186       1985-05-15     2015-09-24                30    1978-08-20   \n",
       "187       1982-02-02     2015-10-05                33    1978-08-20   \n",
       "188       1981-05-20     2015-10-23                34    1978-08-20   \n",
       "189       1985-04-12     2015-10-23                30    1978-08-20   \n",
       "\n",
       "     Edad ginecologo  \n",
       "185                0  \n",
       "186                0  \n",
       "187                0  \n",
       "188                0  \n",
       "189                0  "
      ]
     },
     "execution_count": 137,
     "metadata": {},
     "output_type": "execute_result"
    }
   ],
   "source": [
    "edad_firstdate_1.head()"
   ]
  },
  {
   "cell_type": "code",
   "execution_count": 138,
   "metadata": {},
   "outputs": [
    {
     "name": "stderr",
     "output_type": "stream",
     "text": [
      "C:\\Users\\Rafael Ortega\\AppData\\Roaming\\Python\\Python37\\site-packages\\ipykernel_launcher.py:1: SettingWithCopyWarning: \n",
      "A value is trying to be set on a copy of a slice from a DataFrame.\n",
      "Try using .loc[row_indexer,col_indexer] = value instead\n",
      "\n",
      "See the caveats in the documentation: https://pandas.pydata.org/pandas-docs/stable/user_guide/indexing.html#returning-a-view-versus-a-copy\n",
      "  \"\"\"Entry point for launching an IPython kernel.\n"
     ]
    }
   ],
   "source": [
    "edad_firstdate_1['FN ginecologo'] = pd.to_datetime('20-08-1978')"
   ]
  },
  {
   "cell_type": "code",
   "execution_count": 142,
   "metadata": {},
   "outputs": [
    {
     "name": "stderr",
     "output_type": "stream",
     "text": [
      "C:\\Users\\Rafael Ortega\\AppData\\Roaming\\Python\\Python37\\site-packages\\ipykernel_launcher.py:1: SettingWithCopyWarning: \n",
      "A value is trying to be set on a copy of a slice from a DataFrame.\n",
      "Try using .loc[row_indexer,col_indexer] = value instead\n",
      "\n",
      "See the caveats in the documentation: https://pandas.pydata.org/pandas-docs/stable/user_guide/indexing.html#returning-a-view-versus-a-copy\n",
      "  \"\"\"Entry point for launching an IPython kernel.\n"
     ]
    }
   ],
   "source": [
    "edad_firstdate_1['Edad ginecologo'] = ((edad_firstdate_1['fecha_creacion'] - edad_firstdate_1['FN ginecologo']).dt.days / 365).astype(int)"
   ]
  },
  {
   "cell_type": "code",
   "execution_count": 143,
   "metadata": {},
   "outputs": [
    {
     "data": {
      "text/html": [
       "<div>\n",
       "<style scoped>\n",
       "    .dataframe tbody tr th:only-of-type {\n",
       "        vertical-align: middle;\n",
       "    }\n",
       "\n",
       "    .dataframe tbody tr th {\n",
       "        vertical-align: top;\n",
       "    }\n",
       "\n",
       "    .dataframe thead th {\n",
       "        text-align: right;\n",
       "    }\n",
       "</style>\n",
       "<table border=\"1\" class=\"dataframe\">\n",
       "  <thead>\n",
       "    <tr style=\"text-align: right;\">\n",
       "      <th></th>\n",
       "      <th>Fecha Nacimiento</th>\n",
       "      <th>fecha_creacion</th>\n",
       "      <th>Edad_primera_vez</th>\n",
       "      <th>FN ginecologo</th>\n",
       "      <th>Edad ginecologo</th>\n",
       "    </tr>\n",
       "  </thead>\n",
       "  <tbody>\n",
       "    <tr>\n",
       "      <th>185</th>\n",
       "      <td>1983-01-30</td>\n",
       "      <td>2015-09-17</td>\n",
       "      <td>32</td>\n",
       "      <td>1978-08-20</td>\n",
       "      <td>37</td>\n",
       "    </tr>\n",
       "    <tr>\n",
       "      <th>186</th>\n",
       "      <td>1985-05-15</td>\n",
       "      <td>2015-09-24</td>\n",
       "      <td>30</td>\n",
       "      <td>1978-08-20</td>\n",
       "      <td>37</td>\n",
       "    </tr>\n",
       "    <tr>\n",
       "      <th>187</th>\n",
       "      <td>1982-02-02</td>\n",
       "      <td>2015-10-05</td>\n",
       "      <td>33</td>\n",
       "      <td>1978-08-20</td>\n",
       "      <td>37</td>\n",
       "    </tr>\n",
       "    <tr>\n",
       "      <th>188</th>\n",
       "      <td>1981-05-20</td>\n",
       "      <td>2015-10-23</td>\n",
       "      <td>34</td>\n",
       "      <td>1978-08-20</td>\n",
       "      <td>37</td>\n",
       "    </tr>\n",
       "    <tr>\n",
       "      <th>189</th>\n",
       "      <td>1985-04-12</td>\n",
       "      <td>2015-10-23</td>\n",
       "      <td>30</td>\n",
       "      <td>1978-08-20</td>\n",
       "      <td>37</td>\n",
       "    </tr>\n",
       "  </tbody>\n",
       "</table>\n",
       "</div>"
      ],
      "text/plain": [
       "    Fecha Nacimiento fecha_creacion  Edad_primera_vez FN ginecologo  \\\n",
       "185       1983-01-30     2015-09-17                32    1978-08-20   \n",
       "186       1985-05-15     2015-09-24                30    1978-08-20   \n",
       "187       1982-02-02     2015-10-05                33    1978-08-20   \n",
       "188       1981-05-20     2015-10-23                34    1978-08-20   \n",
       "189       1985-04-12     2015-10-23                30    1978-08-20   \n",
       "\n",
       "     Edad ginecologo  \n",
       "185               37  \n",
       "186               37  \n",
       "187               37  \n",
       "188               37  \n",
       "189               37  "
      ]
     },
     "execution_count": 143,
     "metadata": {},
     "output_type": "execute_result"
    }
   ],
   "source": [
    "edad_firstdate_1.head()"
   ]
  },
  {
   "cell_type": "code",
   "execution_count": 145,
   "metadata": {},
   "outputs": [
    {
     "name": "stderr",
     "output_type": "stream",
     "text": [
      "C:\\Users\\Rafael Ortega\\AppData\\Roaming\\Python\\Python37\\site-packages\\ipykernel_launcher.py:1: SettingWithCopyWarning: \n",
      "A value is trying to be set on a copy of a slice from a DataFrame.\n",
      "Try using .loc[row_indexer,col_indexer] = value instead\n",
      "\n",
      "See the caveats in the documentation: https://pandas.pydata.org/pandas-docs/stable/user_guide/indexing.html#returning-a-view-versus-a-copy\n",
      "  \"\"\"Entry point for launching an IPython kernel.\n"
     ]
    },
    {
     "data": {
      "text/html": [
       "<div>\n",
       "<style scoped>\n",
       "    .dataframe tbody tr th:only-of-type {\n",
       "        vertical-align: middle;\n",
       "    }\n",
       "\n",
       "    .dataframe tbody tr th {\n",
       "        vertical-align: top;\n",
       "    }\n",
       "\n",
       "    .dataframe thead th {\n",
       "        text-align: right;\n",
       "    }\n",
       "</style>\n",
       "<table border=\"1\" class=\"dataframe\">\n",
       "  <thead>\n",
       "    <tr style=\"text-align: right;\">\n",
       "      <th></th>\n",
       "      <th>Fecha Nacimiento</th>\n",
       "      <th>fecha_creacion</th>\n",
       "      <th>Edad_primera_vez</th>\n",
       "      <th>FN ginecologo</th>\n",
       "      <th>Edad ginecologo</th>\n",
       "      <th>Año cita</th>\n",
       "    </tr>\n",
       "  </thead>\n",
       "  <tbody>\n",
       "    <tr>\n",
       "      <th>185</th>\n",
       "      <td>1983-01-30</td>\n",
       "      <td>2015-09-17</td>\n",
       "      <td>32</td>\n",
       "      <td>1978-08-20</td>\n",
       "      <td>37</td>\n",
       "      <td>2015</td>\n",
       "    </tr>\n",
       "    <tr>\n",
       "      <th>186</th>\n",
       "      <td>1985-05-15</td>\n",
       "      <td>2015-09-24</td>\n",
       "      <td>30</td>\n",
       "      <td>1978-08-20</td>\n",
       "      <td>37</td>\n",
       "      <td>2015</td>\n",
       "    </tr>\n",
       "    <tr>\n",
       "      <th>187</th>\n",
       "      <td>1982-02-02</td>\n",
       "      <td>2015-10-05</td>\n",
       "      <td>33</td>\n",
       "      <td>1978-08-20</td>\n",
       "      <td>37</td>\n",
       "      <td>2015</td>\n",
       "    </tr>\n",
       "    <tr>\n",
       "      <th>188</th>\n",
       "      <td>1981-05-20</td>\n",
       "      <td>2015-10-23</td>\n",
       "      <td>34</td>\n",
       "      <td>1978-08-20</td>\n",
       "      <td>37</td>\n",
       "      <td>2015</td>\n",
       "    </tr>\n",
       "    <tr>\n",
       "      <th>189</th>\n",
       "      <td>1985-04-12</td>\n",
       "      <td>2015-10-23</td>\n",
       "      <td>30</td>\n",
       "      <td>1978-08-20</td>\n",
       "      <td>37</td>\n",
       "      <td>2015</td>\n",
       "    </tr>\n",
       "  </tbody>\n",
       "</table>\n",
       "</div>"
      ],
      "text/plain": [
       "    Fecha Nacimiento fecha_creacion  Edad_primera_vez FN ginecologo  \\\n",
       "185       1983-01-30     2015-09-17                32    1978-08-20   \n",
       "186       1985-05-15     2015-09-24                30    1978-08-20   \n",
       "187       1982-02-02     2015-10-05                33    1978-08-20   \n",
       "188       1981-05-20     2015-10-23                34    1978-08-20   \n",
       "189       1985-04-12     2015-10-23                30    1978-08-20   \n",
       "\n",
       "     Edad ginecologo  Año cita  \n",
       "185               37      2015  \n",
       "186               37      2015  \n",
       "187               37      2015  \n",
       "188               37      2015  \n",
       "189               37      2015  "
      ]
     },
     "execution_count": 145,
     "metadata": {},
     "output_type": "execute_result"
    }
   ],
   "source": [
    "edad_firstdate_1['Año cita'] = edad_firstdate_1['fecha_creacion'].dt.year\n",
    "edad_firstdate_1.head()"
   ]
  },
  {
   "cell_type": "code",
   "execution_count": null,
   "metadata": {},
   "outputs": [],
   "source": []
  },
  {
   "cell_type": "code",
   "execution_count": 149,
   "metadata": {},
   "outputs": [
    {
     "data": {
      "text/html": [
       "<div>\n",
       "<style scoped>\n",
       "    .dataframe tbody tr th:only-of-type {\n",
       "        vertical-align: middle;\n",
       "    }\n",
       "\n",
       "    .dataframe tbody tr th {\n",
       "        vertical-align: top;\n",
       "    }\n",
       "\n",
       "    .dataframe thead th {\n",
       "        text-align: right;\n",
       "    }\n",
       "</style>\n",
       "<table border=\"1\" class=\"dataframe\">\n",
       "  <thead>\n",
       "    <tr style=\"text-align: right;\">\n",
       "      <th></th>\n",
       "      <th>Edad_primera_vez</th>\n",
       "      <th>Edad ginecologo</th>\n",
       "    </tr>\n",
       "    <tr>\n",
       "      <th>Año cita</th>\n",
       "      <th></th>\n",
       "      <th></th>\n",
       "    </tr>\n",
       "  </thead>\n",
       "  <tbody>\n",
       "    <tr>\n",
       "      <th>2015</th>\n",
       "      <td>34</td>\n",
       "      <td>37</td>\n",
       "    </tr>\n",
       "    <tr>\n",
       "      <th>2016</th>\n",
       "      <td>35</td>\n",
       "      <td>37</td>\n",
       "    </tr>\n",
       "    <tr>\n",
       "      <th>2017</th>\n",
       "      <td>33</td>\n",
       "      <td>38</td>\n",
       "    </tr>\n",
       "    <tr>\n",
       "      <th>2018</th>\n",
       "      <td>34</td>\n",
       "      <td>39</td>\n",
       "    </tr>\n",
       "    <tr>\n",
       "      <th>2019</th>\n",
       "      <td>34</td>\n",
       "      <td>40</td>\n",
       "    </tr>\n",
       "    <tr>\n",
       "      <th>2020</th>\n",
       "      <td>32</td>\n",
       "      <td>41</td>\n",
       "    </tr>\n",
       "    <tr>\n",
       "      <th>2021</th>\n",
       "      <td>34</td>\n",
       "      <td>42</td>\n",
       "    </tr>\n",
       "    <tr>\n",
       "      <th>2022</th>\n",
       "      <td>35</td>\n",
       "      <td>43</td>\n",
       "    </tr>\n",
       "    <tr>\n",
       "      <th>2023</th>\n",
       "      <td>37</td>\n",
       "      <td>44</td>\n",
       "    </tr>\n",
       "  </tbody>\n",
       "</table>\n",
       "</div>"
      ],
      "text/plain": [
       "          Edad_primera_vez  Edad ginecologo\n",
       "Año cita                                   \n",
       "2015                    34               37\n",
       "2016                    35               37\n",
       "2017                    33               38\n",
       "2018                    34               39\n",
       "2019                    34               40\n",
       "2020                    32               41\n",
       "2021                    34               42\n",
       "2022                    35               43\n",
       "2023                    37               44"
      ]
     },
     "execution_count": 149,
     "metadata": {},
     "output_type": "execute_result"
    }
   ],
   "source": [
    "edad_pac_gine = edad_firstdate_1.groupby('Año cita').mean().astype(int)\n",
    "edad_pac_gine"
   ]
  },
  {
   "cell_type": "code",
   "execution_count": 155,
   "metadata": {},
   "outputs": [
    {
     "data": {
      "text/html": [
       "<div>\n",
       "<style scoped>\n",
       "    .dataframe tbody tr th:only-of-type {\n",
       "        vertical-align: middle;\n",
       "    }\n",
       "\n",
       "    .dataframe tbody tr th {\n",
       "        vertical-align: top;\n",
       "    }\n",
       "\n",
       "    .dataframe thead th {\n",
       "        text-align: right;\n",
       "    }\n",
       "</style>\n",
       "<table border=\"1\" class=\"dataframe\">\n",
       "  <thead>\n",
       "    <tr style=\"text-align: right;\">\n",
       "      <th></th>\n",
       "      <th>Edad_primera_vez</th>\n",
       "      <th>Edad ginecologo</th>\n",
       "      <th>Diferencia</th>\n",
       "    </tr>\n",
       "    <tr>\n",
       "      <th>Año cita</th>\n",
       "      <th></th>\n",
       "      <th></th>\n",
       "      <th></th>\n",
       "    </tr>\n",
       "  </thead>\n",
       "  <tbody>\n",
       "    <tr>\n",
       "      <th>2015</th>\n",
       "      <td>34</td>\n",
       "      <td>37</td>\n",
       "      <td>3</td>\n",
       "    </tr>\n",
       "    <tr>\n",
       "      <th>2016</th>\n",
       "      <td>35</td>\n",
       "      <td>37</td>\n",
       "      <td>2</td>\n",
       "    </tr>\n",
       "    <tr>\n",
       "      <th>2017</th>\n",
       "      <td>33</td>\n",
       "      <td>38</td>\n",
       "      <td>5</td>\n",
       "    </tr>\n",
       "    <tr>\n",
       "      <th>2018</th>\n",
       "      <td>34</td>\n",
       "      <td>39</td>\n",
       "      <td>5</td>\n",
       "    </tr>\n",
       "    <tr>\n",
       "      <th>2019</th>\n",
       "      <td>34</td>\n",
       "      <td>40</td>\n",
       "      <td>6</td>\n",
       "    </tr>\n",
       "    <tr>\n",
       "      <th>2020</th>\n",
       "      <td>32</td>\n",
       "      <td>41</td>\n",
       "      <td>9</td>\n",
       "    </tr>\n",
       "    <tr>\n",
       "      <th>2021</th>\n",
       "      <td>34</td>\n",
       "      <td>42</td>\n",
       "      <td>8</td>\n",
       "    </tr>\n",
       "    <tr>\n",
       "      <th>2022</th>\n",
       "      <td>35</td>\n",
       "      <td>43</td>\n",
       "      <td>8</td>\n",
       "    </tr>\n",
       "    <tr>\n",
       "      <th>2023</th>\n",
       "      <td>37</td>\n",
       "      <td>44</td>\n",
       "      <td>7</td>\n",
       "    </tr>\n",
       "  </tbody>\n",
       "</table>\n",
       "</div>"
      ],
      "text/plain": [
       "          Edad_primera_vez  Edad ginecologo  Diferencia\n",
       "Año cita                                               \n",
       "2015                    34               37           3\n",
       "2016                    35               37           2\n",
       "2017                    33               38           5\n",
       "2018                    34               39           5\n",
       "2019                    34               40           6\n",
       "2020                    32               41           9\n",
       "2021                    34               42           8\n",
       "2022                    35               43           8\n",
       "2023                    37               44           7"
      ]
     },
     "execution_count": 155,
     "metadata": {},
     "output_type": "execute_result"
    }
   ],
   "source": [
    "edad_pac_gine['Diferencia'] = edad_pac_gine['Edad ginecologo'] - edad_pac_gine['Edad_primera_vez']\n",
    "edad_pac_gine.head(10)"
   ]
  },
  {
   "cell_type": "code",
   "execution_count": 160,
   "metadata": {},
   "outputs": [
    {
     "data": {
      "image/png": "[encoded data removed]",
      "text/plain": [
       "<Figure size 640x480 with 1 Axes>"
      ]
     },
     "metadata": {},
     "output_type": "display_data"
    }
   ],
   "source": [
    "sns.lineplot(data=edad_pac_gine, errorbar=('ci',100));"
   ]
  }
 ],
 "metadata": {
  "kernelspec": {
   "display_name": "Python 3",
   "language": "python",
   "name": "python3"
  },
  "language_info": {
   "codemirror_mode": {
    "name": "ipython",
    "version": 3
   },
   "file_extension": ".py",
   "mimetype": "text/x-python",
   "name": "python",
   "nbconvert_exporter": "python",
   "pygments_lexer": "ipython3",
   "version": "3.7.4"
  },
  "orig_nbformat": 4
 },
 "nbformat": 4,
 "nbformat_minor": 2
}
